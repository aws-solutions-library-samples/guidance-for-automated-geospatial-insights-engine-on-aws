{
 "cells": [
  {
   "cell_type": "code",
   "id": "cbb0f39af4a1ea9d",
   "metadata": {
    "ExecuteTime": {
     "end_time": "2024-04-30T03:35:06.366016Z",
     "start_time": "2024-04-30T03:35:04.972147Z"
    }
   },
   "source": [
    "import json\n",
    "import os\n",
    "import sys\n",
    "\n",
    "import geopandas as gpd\n",
    "import shapely.geometry as geom\n",
    "\n",
    "# Re-use some of the libraries that are used by app\n",
    "sys.path.append('../apps/arcade-pipeline')\n",
    "sys.path.append('../apps/arcade-pipeline/utils')\n",
    "\n",
    "from tiff_image_processor import write_to_tif, create_tif_file_metadata\n",
    "from stac_catalog_processor import STACCatalogProcessor, EngineProcessRequest"
   ],
   "outputs": [],
   "execution_count": 7
  },
  {
   "metadata": {},
   "cell_type": "markdown",
   "source": "## Set with your environment specific value",
   "id": "f7249eb30daadef5"
  },
  {
   "metadata": {
    "ExecuteTime": {
     "end_time": "2024-04-30T03:34:51.150546Z",
     "start_time": "2024-04-30T03:34:51.142683Z"
    }
   },
   "cell_type": "code",
   "source": [
    "%env AWS_ACCESS_KEY_ID=\n",
    "%env AWS_SECRET_ACCESS_KEY=\n",
    "%env AWS_SESSION_TOKEN=\n",
    "%env STAC_CATALOG_OUTPUT_BUCKET=\n",
    "%env ARCADE_EVENT_BUS_NAME=\n",
    "%env ARCADE_STAC_SERVER_URL=\n",
    "%env AWS_BATCH_JOB_ID="
   ],
   "id": "dd211a47-0b65-4149-92a2-ebdbe2030538",
   "outputs": [
    {
     "name": "stdout",
     "output_type": "stream",
     "text": [
      "env: AWS_ACCESS_KEY_ID=\n",
      "env: AWS_SECRET_ACCESS_KEY=\n",
      "env: AWS_SESSION_TOKEN=\n",
      "env: STAC_CATALOG_OUTPUT_BUCKET=\n",
      "env: ARCADE_EVENT_BUS_NAME=\n",
      "env: ARCADE_STAC_SERVER_URL=\n",
      "env: AWS_BATCH_JOB_ID=\n"
     ]
    }
   ],
   "execution_count": 1
  },
  {
   "metadata": {
    "ExecuteTime": {
     "end_time": "2024-04-30T03:35:09.980052Z",
     "start_time": "2024-04-30T03:35:09.977622Z"
    }
   },
   "cell_type": "code",
   "source": "input_json_string = \"{\\\"groupId\\\":\\\"01hwcek1f2t31r99qa4xs74skx\\\",\\\"regionId\\\":\\\"01hwcet7zyhy0xe31mmfwh6qgk\\\",\\\"zoneId\\\":\\\"01hwcf5s2s1h49jpf8s58qhrkb\\\",\\\"stateId\\\":\\\"01hwcg1qfy5d8apvtncxn3rnxq\\\",\\\"scheduleDateTime\\\":\\\"2023-08-30\\\",\\\"coordinates\\\":[[-104.5079674,39.9194752],[-104.4894065,39.9193435],[-104.4893912,39.9122295],[-104.5078877,39.9123941]]}\"",
   "id": "ab9af3a1edc7855a",
   "outputs": [],
   "execution_count": 8
  },
  {
   "metadata": {},
   "cell_type": "markdown",
   "source": "## Load the StacCatalogProcessor (same module used by the container)",
   "id": "1d6da9931dfadbd4"
  },
  {
   "metadata": {
    "ExecuteTime": {
     "end_time": "2024-04-30T03:35:14.485884Z",
     "start_time": "2024-04-30T03:35:13.092923Z"
    }
   },
   "cell_type": "code",
   "source": [
    "request = EngineProcessRequest.from_dict(json.loads(input_json_string))\n",
    "processor = STACCatalogProcessor(request)\n",
    "processor.search_stac_items()\n",
    "\n",
    "# TODO: this need to be populated by querying the state rest api\n",
    "yield_target = 20\n",
    "crop = 'wheat'\n",
    "planted_at = '2024-04-01'\n"
   ],
   "id": "eeb33bd263879f9b",
   "outputs": [
    {
     "name": "stdout",
     "output_type": "stream",
     "text": [
      "Found: 2 items\n"
     ]
    }
   ],
   "execution_count": 9
  },
  {
   "metadata": {},
   "cell_type": "markdown",
   "source": "## Publish start event",
   "id": "8b4bf106e40ccef5"
  },
  {
   "metadata": {
    "ExecuteTime": {
     "end_time": "2024-04-30T03:34:55.076226Z",
     "start_time": "2024-04-30T03:34:54.972717Z"
    }
   },
   "cell_type": "code",
   "source": [
    "import boto3\n",
    "\n",
    "event_bus_name = os.getenv(\"ARCADE_EVENT_BUS_NAME\")\n",
    "job_id = os.getenv('AWS_BATCH_JOB_ID')\n",
    "\n",
    "# Create an EventBridge client\n",
    "eventbridge = boto3.client('events')\n",
    "\n",
    "# Define the event details\n",
    "event = {\n",
    "\t'EventBusName': event_bus_name,\n",
    "\t'Source': 'com.aws.arcade.engine',\n",
    "\t'DetailType': 'com.aws.arcade>results>started',\n",
    "\t'Detail': json.dumps({\n",
    "\t\t\"groupId\": request.group_id,\n",
    "\t\t\"zoneId\": request.zone_id,\n",
    "\t\t\"regionId\": request.region_id,\n",
    "\t\t\"schedule\": request.schedule_date_time,\n",
    "\t\t\"jobId\": job_id,\n",
    "\t}),\n",
    "}\n",
    "\n",
    "# Publish the event to EventBridge\n",
    "response = eventbridge.put_events(\n",
    "\tEntries=[\n",
    "\t\t{\n",
    "\t\t\t'Source': event['Source'],\n",
    "\t\t\t'DetailType': event['DetailType'],\n",
    "\t\t\t'Detail': event['Detail']\n",
    "\t\t}\n",
    "\t]\n",
    ")\n",
    "\n",
    "print(response)"
   ],
   "id": "6cbf4ef46b1a8854",
   "outputs": [
    {
     "ename": "NameError",
     "evalue": "name 'os' is not defined",
     "output_type": "error",
     "traceback": [
      "\u001B[0;31m---------------------------------------------------------------------------\u001B[0m",
      "\u001B[0;31mNameError\u001B[0m                                 Traceback (most recent call last)",
      "Cell \u001B[0;32mIn[4], line 3\u001B[0m\n\u001B[1;32m      1\u001B[0m \u001B[38;5;28;01mimport\u001B[39;00m \u001B[38;5;21;01mboto3\u001B[39;00m\n\u001B[0;32m----> 3\u001B[0m event_bus_name \u001B[38;5;241m=\u001B[39m \u001B[43mos\u001B[49m\u001B[38;5;241m.\u001B[39mgetenv(\u001B[38;5;124m\"\u001B[39m\u001B[38;5;124mARCADE_EVENT_BUS_NAME\u001B[39m\u001B[38;5;124m\"\u001B[39m)\n\u001B[1;32m      4\u001B[0m job_id \u001B[38;5;241m=\u001B[39m os\u001B[38;5;241m.\u001B[39mgetenv(\u001B[38;5;124m'\u001B[39m\u001B[38;5;124mAWS_BATCH_JOB_ID\u001B[39m\u001B[38;5;124m'\u001B[39m)\n\u001B[1;32m      6\u001B[0m \u001B[38;5;66;03m# Create an EventBridge client\u001B[39;00m\n",
      "\u001B[0;31mNameError\u001B[0m: name 'os' is not defined"
     ]
    }
   ],
   "execution_count": 4
  },
  {
   "metadata": {},
   "cell_type": "markdown",
   "source": "## Plot Region (Debugging)",
   "id": "6773754a02c522fa"
  },
  {
   "metadata": {
    "ExecuteTime": {
     "end_time": "2024-04-30T03:35:19.763836Z",
     "start_time": "2024-04-30T03:35:19.393736Z"
    }
   },
   "cell_type": "code",
   "source": [
    "CRS = 'epsg:4326'\n",
    "zone = geom.Polygon(request.coordinates)\n",
    "zone_array = [zone]\n",
    "zone_series = gpd.GeoSeries(zone_array, crs=CRS)\n",
    "aoi = gpd.GeoDataFrame(geometry=zone_series, crs=CRS)\n",
    "aoi.plot(figsize=(10, 8), alpha=0.5, edgecolor='k')\n",
    "bounding_box = zone_series.total_bounds"
   ],
   "id": "d173f3970abf18de",
   "outputs": [
    {
     "data": {
      "text/plain": [
       "<Figure size 1000x800 with 1 Axes>"
      ],
      "image/png": "[encoded data removed]"
     },
     "metadata": {},
     "output_type": "display_data"
    }
   ],
   "execution_count": 10
  },
  {
   "metadata": {},
   "cell_type": "markdown",
   "source": "## Initialise metadata.json",
   "id": "df2d5bda48565841"
  },
  {
   "metadata": {
    "ExecuteTime": {
     "end_time": "2024-04-30T03:35:20.993576Z",
     "start_time": "2024-04-30T03:35:20.991226Z"
    }
   },
   "cell_type": "code",
   "source": [
    "output_metadata = {\n",
    "\t\"bounding_box\": bounding_box.tolist(),\n",
    "\t\"geometry\": {\n",
    "\t\t'type': 'Polygon',\n",
    "\t\t'coordinates': request.coordinates\n",
    "\t},\n",
    "\t\"properties\": {},\n",
    "\t\"links\": [{\"rel\": \"derived_from\", \"href\": link.href, \"type\": link.media_type} for link in processor.stac_item.links if link.rel == 'self'].pop(),\n",
    "\t\"assets\": {}\n",
    "}"
   ],
   "id": "48b4bbc8-b943-41c5-910e-219737198fdf",
   "outputs": [],
   "execution_count": 11
  },
  {
   "cell_type": "markdown",
   "id": "3416c9dd-8b0b-44a8-b82c-b90c0acb3630",
   "metadata": {},
   "source": "## 1. Calculate all the default bands"
  },
  {
   "cell_type": "code",
   "id": "db0c76b2-42b6-43b3-9b50-6ae16789b99e",
   "metadata": {
    "ExecuteTime": {
     "end_time": "2024-04-30T03:35:31.641752Z",
     "start_time": "2024-04-30T03:35:22.718198Z"
    }
   },
   "source": "stac_assets = processor.calculate_bands_from_stac_item()",
   "execution_count": 12,
   "outputs": []
  },
  {
   "cell_type": "markdown",
   "id": "9a4eca40-c20d-4b41-a875-028bc9ea81c9",
   "metadata": {},
   "source": "## 2. Calculate cloud removal bands"
  },
  {
   "metadata": {
    "ExecuteTime": {
     "end_time": "2024-04-30T03:35:32.925313Z",
     "start_time": "2024-04-30T03:35:32.916334Z"
    }
   },
   "cell_type": "code",
   "source": [
    "# Perform cloud removal\n",
    "stac_assets = processor.calculate_cloud_removal_band(stac_assets)"
   ],
   "id": "5f96daeb9c6eb13a",
   "execution_count": 13,
   "outputs": []
  },
  {
   "metadata": {},
   "cell_type": "markdown",
   "source": "## Plot after cloud removal (debugging)",
   "id": "8ede42eed402ddd6"
  },
  {
   "cell_type": "code",
   "id": "3f1e5e46-c594-44b9-84ee-e1c8e8302d36",
   "metadata": {
    "ExecuteTime": {
     "end_time": "2024-04-30T03:35:34.184675Z",
     "start_time": "2024-04-30T03:35:34.028869Z"
    }
   },
   "source": [
    "from pystac.extensions.projection import ProjectionExtension\n",
    "import matplotlib.pyplot as plt\n",
    "import matplotlib.patches as mpatches\n",
    "from pyproj import CRS\n",
    "\n",
    "sentinel_epsg = ProjectionExtension.ext(processor.stac_item).epsg\n",
    "output_crs = CRS.from_epsg(sentinel_epsg)\n",
    "\n",
    "aoi_projected = aoi.to_crs(output_crs)\n",
    "\n",
    "scl_color_def = [\n",
    "\t(0, '#000000', 'No data'),  # black\n",
    "\t(1, '#ff0000', 'Saturated or defective'),  # red\n",
    "\t(2, '#404040', 'Cast shadows'),  # gray\n",
    "\t(3, '#833c0b', 'Cloud shadows'),  # brown\n",
    "\t(4, '#04ff00', 'Vegetation'),  # green\n",
    "\t(5, '#ffff00', 'Not vegetated (bare soil)'),  # yellow\n",
    "\t(6, '#0000cc', 'Water'),  # blue\n",
    "\t(7, '#757171', 'Unclassified'),  # medium gray\n",
    "\t(8, '#aeaaaa', 'Cloud medium probability'),  # light gray\n",
    "\t(9, '#d0cece', 'cloud high probability'),  # very light gray\n",
    "\t(10, '#00ccff', 'Thin cirrus'),  # light blue/purple\n",
    "\t(11, '#ff66ff', 'Snow or ice'),  # cyan\n",
    "]\n",
    "scl_color_hex = [x[1] for x in scl_color_def]\n",
    "_ = (\n",
    "\t# cloud_removed.isel(time=0)\t# return new xarray.DataSet with each array index along the `time` dimension\n",
    "\tstac_assets[['scl_cloud_removed']]\n",
    "\t.isel(time=0)  # return new xarray.DataSet with each array index along the `time` dimension\n",
    "\t.to_array(\"band\")  # convert to xarray.DataArray\n",
    "\t.plot.imshow(  # wraps matplotlib.pyplot.imshow()\n",
    "\t\tcol=\"band\",  # make column faceted plots on this dimension name\n",
    "\t\tsize=5,  # height (in inches) of each plot.\n",
    "\t\tvmin=0,  # Lower value to anchor the colormap\n",
    "\t\tvmax=11,  # Upper value to anchor the colormap\n",
    "\t\tcolors=scl_color_hex,\n",
    "\t\tlevels=13,\n",
    "\t\tadd_colorbar=False)\n",
    ")\n",
    "\n",
    "plt.title(\"Scene Classification Layer (SCL) Band - Surface Only\")\n",
    "plt.xlabel(\"longitude\")\n",
    "plt.ylabel(\"latitude\")\n",
    "\n",
    "ax = plt.gca()\n",
    "ax.axis(\"equal\")\n",
    "\n",
    "# Create a legend object and add the patches to it\n",
    "masked_color_def = [\n",
    "\t('X', '#404040', 'Removed'),\n",
    "\t(4, '#04ff00', 'Vegetation'),  # green\n",
    "\t(5, '#ffff00', 'Not vegetated'),  # yellow\n",
    "\t(6, '#0000cc', 'Water')  # blue\n",
    "]\n",
    "patches = []\n",
    "for color in masked_color_def:\n",
    "\tpatch = mpatches.Patch(color=color[1], label='{} - {}'.format(color[0], color[2]))\n",
    "\tpatches.append(patch)\n",
    "plt.legend(handles=patches, title='Classification', bbox_to_anchor=(1.6, 1))\n",
    "\n",
    "# add the zone boundaries\n",
    "_ = aoi_projected.plot(ax=ax, facecolor=\"none\", edgecolor='red', lw=3)"
   ],
   "outputs": [
    {
     "data": {
      "text/plain": [
       "<Figure size 600x500 with 1 Axes>"
      ],
      "image/png": "[encoded data removed]"
     },
     "metadata": {},
     "output_type": "display_data"
    }
   ],
   "execution_count": 14
  },
  {
   "metadata": {},
   "cell_type": "markdown",
   "source": "## 3. Calculate ndvi raw",
   "id": "bb97d57a7d909a8e"
  },
  {
   "metadata": {
    "ExecuteTime": {
     "end_time": "2024-04-30T03:35:35.508472Z",
     "start_time": "2024-04-30T03:35:35.503941Z"
    }
   },
   "cell_type": "code",
   "source": [
    "stac_assets = processor.calculate_ndvi_raw_band(stac_assets)\n",
    "# Print out the first element of the ndvi multi dimension array\n",
    "print(stac_assets['ndvi_raw'].values.flatten()[0])"
   ],
   "id": "f8a490f9a7b0a757",
   "execution_count": 15,
   "outputs": [
    {
     "name": "stdout",
     "output_type": "stream",
     "text": [
      "0.42088447956953084\n"
     ]
    }
   ]
  },
  {
   "metadata": {},
   "cell_type": "markdown",
   "source": "## 4. Calculate zone area",
   "id": "35ae49d39e444632"
  },
  {
   "metadata": {
    "ExecuteTime": {
     "end_time": "2024-04-30T03:35:36.817180Z",
     "start_time": "2024-04-30T03:35:36.808256Z"
    }
   },
   "cell_type": "code",
   "source": [
    "area_acres = processor.calculate_area()\n",
    "# Set the area metadata\n",
    "output_metadata['properties']['area_size'] = area_acres\n",
    "output_metadata['properties']['area_unit_of_measure'] = 'acres'\n",
    "output_metadata['properties']['crop_type'] = crop\n",
    "output_metadata['properties']['crop_planted_at'] = planted_at\n",
    "print(area_acres)"
   ],
   "id": "8a3de62fbc1e6a28",
   "outputs": [
    {
     "name": "stdout",
     "output_type": "stream",
     "text": [
      "525.0086725299224\n"
     ]
    }
   ],
   "execution_count": 16
  },
  {
   "metadata": {},
   "cell_type": "markdown",
   "source": "## 5. Fill cloud gap",
   "id": "da75118d2cfaa5d1"
  },
  {
   "metadata": {
    "ExecuteTime": {
     "end_time": "2024-04-30T03:35:37.860060Z",
     "start_time": "2024-04-30T03:35:37.857299Z"
    }
   },
   "cell_type": "code",
   "source": "stac_assets = processor.fill_cloud_gap(stac_assets)",
   "id": "50cf30d123f99587",
   "outputs": [
    {
     "name": "stdout",
     "output_type": "stream",
     "text": [
      "no cloud gap\n"
     ]
    }
   ],
   "execution_count": 17
  },
  {
   "metadata": {},
   "cell_type": "markdown",
   "source": "## 6. Calculate ndvi change",
   "id": "913e983b727b3033"
  },
  {
   "metadata": {
    "ExecuteTime": {
     "end_time": "2024-04-30T03:35:38.910899Z",
     "start_time": "2024-04-30T03:35:38.909250Z"
    }
   },
   "cell_type": "code",
   "source": [
    "# We only perform change detection when previous NDVI data is available\n",
    "stac_assets = processor.calculate_ndvi_change(stac_assets)"
   ],
   "id": "e307d44b10446e5e",
   "execution_count": 18,
   "outputs": []
  },
  {
   "metadata": {},
   "cell_type": "markdown",
   "source": "",
   "id": "640d49f72151bd2f"
  },
  {
   "metadata": {},
   "cell_type": "markdown",
   "source": "## 7. Calculate nitrogen recommendation",
   "id": "5bf86e2745701382"
  },
  {
   "metadata": {
    "ExecuteTime": {
     "end_time": "2024-04-30T03:35:40.370202Z",
     "start_time": "2024-04-30T03:35:40.366110Z"
    }
   },
   "cell_type": "code",
   "source": [
    "from tiff_image_processor import calculate_checksum\n",
    "\n",
    "bucket_name = os.getenv(\"STAC_CATALOG_OUTPUT_BUCKET\")\n",
    "s3_prefix = 's3://{}/{}/{}/{}/{}'.format(bucket_name, request.group_id, request.region_id, request.zone_id, request.schedule_date_time)\n",
    "\n",
    "# Calculate nitrogen recommendation target based on yield target\n",
    "calculated_nitrogen_target = yield_target * 0.8 * area_acres\n",
    "\n",
    "nitrogen_recommendation = processor.calculate_nitrogen_recommendation(yield_target, area_acres)\n",
    "\n",
    "nitrogen_file_path = \"output/nitrogen.json\"\n",
    "\n",
    "with open(nitrogen_file_path, \"w\") as file:\n",
    "\t# Write content to the file\n",
    "\tfile.write(json.dumps(nitrogen_recommendation))\n",
    "\n",
    "checksum_algorithm = \"md5\"\n",
    "\n",
    "output_metadata['assets']['nitrogen_metadata'] = {\n",
    "\t\"href\": \"s3://{}/{}/nitrogen.json\".format(bucket_name, s3_prefix),\n",
    "\t\"type\": \"application/json\",\n",
    "\t\"file:checksum\": calculate_checksum(nitrogen_file_path, checksum_algorithm),\n",
    "\t\"file:size\": os.path.getsize(nitrogen_file_path),\n",
    "\t\"roles\": [\n",
    "\t\t\"metadata\"\n",
    "\t]\n",
    "}\n",
    "\n",
    "print(output_metadata)\n"
   ],
   "id": "eb31212c5d56e75d",
   "outputs": [
    {
     "name": "stdout",
     "output_type": "stream",
     "text": [
      "{'bounding_box': [-104.5079674, 39.9122295, -104.4893912, 39.9194752], 'geometry': {'type': 'Polygon', 'coordinates': [(-104.5079674, 39.9194752), (-104.4894065, 39.9193435), (-104.4893912, 39.9122295), (-104.5078877, 39.9123941)]}, 'properties': {'area_size': 525.0086725299224, 'area_unit_of_measure': 'acres', 'crop_type': 'wheat', 'crop_planted_at': '2024-04-01'}, 'links': {'rel': 'derived_from', 'href': 'https://earth-search.aws.element84.com/v1/collections/sentinel-2-c1-l2a/items/S2A_T13TEE_20230829T175555_L2A', 'type': 'application/geo+json'}, 'assets': {'nitrogen_metadata': {'href': 's3:///s3:///01hwcek1f2t31r99qa4xs74skx/01hwcet7zyhy0xe31mmfwh6qgk/01hwcf5s2s1h49jpf8s58qhrkb/2023-08-30/nitrogen.json', 'type': 'application/json', 'file:checksum': '69fe70a633564e69aeb263ac11566939', 'file:size': 186, 'roles': ['metadata']}}}\n"
     ]
    }
   ],
   "execution_count": 19
  },
  {
   "metadata": {},
   "cell_type": "markdown",
   "source": "## Generate tif images and band(s) metadata ",
   "id": "8a57784c35844750"
  },
  {
   "metadata": {
    "ExecuteTime": {
     "end_time": "2024-04-30T03:35:41.965720Z",
     "start_time": "2024-04-30T03:35:41.929693Z"
    }
   },
   "cell_type": "code",
   "source": [
    "temp_dir = \"{}/{}\".format(os.getcwd(), \"output\")\n",
    "\n",
    "band_file_paths = write_to_tif(temp_dir, stac_assets, 'images', ['red', 'green', 'blue', 'scl', 'nir08', 'ndvi', 'ndvi_raw', 'scl_cloud_removed', 'ndvi_change'])\n",
    "band_assets = create_tif_file_metadata(stac_assets, band_file_paths, \"{}/{}\".format(s3_prefix, \"images\"), checksum_algorithm)\n",
    "print(band_assets)\n",
    "output_metadata['assets'] = {**output_metadata['assets'], **band_assets}"
   ],
   "id": "c68009c399928848",
   "outputs": [
    {
     "name": "stdout",
     "output_type": "stream",
     "text": [
      "{'red': {'href': 's3:///01hwcek1f2t31r99qa4xs74skx/01hwcet7zyhy0xe31mmfwh6qgk/01hwcf5s2s1h49jpf8s58qhrkb/2023-08-30/images/red.tif', 'type': 'image/tiff; application=geotiff; profile=cloud-optimized', 'title': 'red', 'file:checksum': '0287d478c4968bd33867820f598aaaab', 'file:size': 26912, 'roles': ['data', 'reflectance']}, 'green': {'href': 's3:///01hwcek1f2t31r99qa4xs74skx/01hwcet7zyhy0xe31mmfwh6qgk/01hwcf5s2s1h49jpf8s58qhrkb/2023-08-30/images/green.tif', 'type': 'image/tiff; application=geotiff; profile=cloud-optimized', 'title': 'green', 'file:checksum': '0234cad744aacf5ee5dc624796c22acf', 'file:size': 26914, 'roles': ['data', 'reflectance']}, 'blue': {'href': 's3:///01hwcek1f2t31r99qa4xs74skx/01hwcet7zyhy0xe31mmfwh6qgk/01hwcf5s2s1h49jpf8s58qhrkb/2023-08-30/images/blue.tif', 'type': 'image/tiff; application=geotiff; profile=cloud-optimized', 'title': 'blue', 'file:checksum': '42afd3ac8b703fbe4d2c39d8f0610df0', 'file:size': 26914, 'roles': ['data', 'reflectance']}, 'scl': {'href': 's3:///01hwcek1f2t31r99qa4xs74skx/01hwcet7zyhy0xe31mmfwh6qgk/01hwcf5s2s1h49jpf8s58qhrkb/2023-08-30/images/scl.tif', 'type': 'image/tiff; application=geotiff; profile=cloud-optimized', 'title': 'scl', 'file:checksum': 'a07de23aa890a5c21f7c4dcbabd76649', 'file:size': 13694, 'roles': ['data', 'reflectance']}, 'nir08': {'href': 's3:///01hwcek1f2t31r99qa4xs74skx/01hwcet7zyhy0xe31mmfwh6qgk/01hwcf5s2s1h49jpf8s58qhrkb/2023-08-30/images/nir08.tif', 'type': 'image/tiff; application=geotiff; profile=cloud-optimized', 'title': 'nir08', 'file:checksum': 'a1b05472469f2b2e622e82f169e3b03b', 'file:size': 26914, 'roles': ['data', 'reflectance']}, 'ndvi': {'href': 's3:///01hwcek1f2t31r99qa4xs74skx/01hwcet7zyhy0xe31mmfwh6qgk/01hwcf5s2s1h49jpf8s58qhrkb/2023-08-30/images/ndvi.tif', 'type': 'image/tiff; application=geotiff; profile=cloud-optimized', 'title': 'ndvi', 'file:checksum': '8e6663f8e3a71d582411c75ce83c7862', 'file:size': 106174, 'roles': ['data', 'reflectance'], 'raster:band': [{'nodata': 0, 'data_type': 'uint8', 'histogram': [{'count': 13202, 'min': 0.09644812578969535, 'max': 0.46381756150116715, 'buckets': [0.09644812578969535, 0.1331850693608425, 0.16992201293198972, 0.20665895650313687, 0.24339590007428408, 0.28013284364543123, 0.31686978721657844, 0.3536067307877256, 0.3903436743588728, 0.42708061793002, 0.46381756150116715], 'bucket_count': [4, 32, 312, 857, 1188, 1466, 2210, 4425, 2650, 58]}], 'statistics': {'minimum': 0.09644812578969535, 'maximum': 0.46381756150116715, 'mean': 0.3409287395818506, 'stddev': 0.058898623793871036}}]}, 'ndvi_raw': {'href': 's3:///01hwcek1f2t31r99qa4xs74skx/01hwcet7zyhy0xe31mmfwh6qgk/01hwcf5s2s1h49jpf8s58qhrkb/2023-08-30/images/ndvi_raw.tif', 'type': 'image/tiff; application=geotiff; profile=cloud-optimized', 'title': 'ndvi_raw', 'file:checksum': '9d1f4b5a10a698959773039bb918e576', 'file:size': 106178, 'roles': ['data', 'reflectance']}, 'scl_cloud_removed': {'href': 's3:///01hwcek1f2t31r99qa4xs74skx/01hwcet7zyhy0xe31mmfwh6qgk/01hwcf5s2s1h49jpf8s58qhrkb/2023-08-30/images/scl_cloud_removed.tif', 'type': 'image/tiff; application=geotiff; profile=cloud-optimized', 'title': 'scl_cloud_removed', 'file:checksum': '2efac80ed7d3e8439733a8c32860931b', 'file:size': 13696, 'roles': ['data', 'reflectance']}}\n"
     ]
    }
   ],
   "execution_count": 20
  },
  {
   "metadata": {},
   "cell_type": "markdown",
   "source": "## Generate metadata.json",
   "id": "dd1d9369132a198f"
  },
  {
   "metadata": {},
   "cell_type": "code",
   "source": [
    "with open(\"output/metadata.json\", \"w\") as file:\n",
    "\t# Write content to the file\n",
    "\tfile.write(json.dumps(output_metadata))\n"
   ],
   "id": "e1215073-90c2-4d77-923d-37d6d6746a35",
   "outputs": [],
   "execution_count": null
  },
  {
   "metadata": {},
   "cell_type": "markdown",
   "source": "## Upload artifacts to S3",
   "id": "e2e6d0169a4fb1a3"
  },
  {
   "metadata": {},
   "cell_type": "code",
   "source": [
    "import boto3\n",
    "import os\n",
    "\n",
    "# Create an S3 client\n",
    "s3 = boto3.client('s3')\n",
    "\n",
    "for root, dirs, files in os.walk(temp_dir):\n",
    "\ts3_key_prefix = '{}/{}/{}/{}'.format(request.group_id, request.region_id, request.zone_id, request.schedule_date_time)\n",
    "\tfor file in files:\n",
    "\t\t# Construct the full file path\n",
    "\t\tfile_path = os.path.join(root, file)\n",
    "\t\t# Construct the key (file path in S3)\n",
    "\t\tkey = os.path.relpath(file_path, temp_dir)\n",
    "\t\t# Upload the file to S3\n",
    "\t\ts3.upload_file(file_path, bucket_name, \"{}/{}\".format(s3_key_prefix, key))\n",
    "\t\tprint(f'Uploaded {file_path} to {s3_prefix}/{key}')"
   ],
   "id": "14ed047c394a262d",
   "execution_count": null,
   "outputs": []
  },
  {
   "metadata": {},
   "cell_type": "markdown",
   "source": "## Publish finish event",
   "id": "a834396f22002ce7"
  },
  {
   "metadata": {},
   "cell_type": "code",
   "source": [
    "# Define the event details\n",
    "event = {\n",
    "\t'EventBusName': event_bus_name,\n",
    "\t'Source': 'com.aws.arcade.engine',\n",
    "\t'DetailType': 'arcade>engine>pipeline>finish',\n",
    "\t'Detail': json.dumps({\n",
    "\t\t\"executionId\": \"execution1234\",\n",
    "\t\t\"groupId\": request.group_id,\n",
    "\t\t\"zoneId\": request.zone_id,\n",
    "\t\t\"regionId\": request.region_id,\n",
    "\t\t\"stateId\": request.state_id,\n",
    "\t\t\"createdAt\": request.schedule_date_time,\n",
    "\t\t\"jobArn\": job_id,\n",
    "\t\t\"engineOutPutLocation\": f'{s3_prefix}/metadata.json'\n",
    "\t}),\n",
    "}\n",
    "\n",
    "print(event)\n",
    "\n",
    "# Publish the event to EventBridge\n",
    "response = eventbridge.put_events(\n",
    "\tEntries=[\n",
    "\t\t{\n",
    "\t\t\t'Source': event['Source'],\n",
    "\t\t\t'DetailType': event['DetailType'],\n",
    "\t\t\t'Detail': event['Detail']\n",
    "\t\t}\n",
    "\t]\n",
    ")\n",
    "\n",
    "print(response)"
   ],
   "id": "e92be030db032a57",
   "outputs": [],
   "execution_count": null
  }
 ],
 "metadata": {
  "kernelspec": {
   "display_name": "Python 3 (ipykernel)",
   "language": "python",
   "name": "python3"
  },
  "language_info": {
   "codemirror_mode": {
    "name": "ipython",
    "version": 3
   },
   "file_extension": ".py",
   "mimetype": "text/x-python",
   "name": "python",
   "nbconvert_exporter": "python",
   "pygments_lexer": "ipython3",
   "version": "3.10.14"
  }
 },
 "nbformat": 4,
 "nbformat_minor": 5
}
