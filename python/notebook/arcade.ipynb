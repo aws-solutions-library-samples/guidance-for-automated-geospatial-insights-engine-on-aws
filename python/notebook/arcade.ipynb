{
 "cells": [
  {
   "cell_type": "code",
   "id": "cbb0f39af4a1ea9d",
   "metadata": {},
   "source": [
    "import json\n",
    "import os\n",
    "import sys\n",
    "\n",
    "import geopandas as gpd\n",
    "import shapely.geometry as geom\n",
    "\n",
    "# Re-use some of the libraries that are used by app\n",
    "sys.path.append('../apps/arcade-pipeline')\n",
    "sys.path.append('../apps/arcade-pipeline/processors')\n",
    "\n",
    "from processors.xarray_utils import XarrayUtils\n",
    "from processors.metadata_utils import MetadataUtils\n",
    "from stac_catalog_processor import STACCatalogProcessor, EngineProcessRequest"
   ],
   "outputs": [],
   "execution_count": null
  },
  {
   "metadata": {},
   "cell_type": "markdown",
   "source": "",
   "id": "9ac993ad7ca43ced"
  },
  {
   "metadata": {},
   "cell_type": "markdown",
   "source": "## Set with your environment specific value",
   "id": "f7249eb30daadef5"
  },
  {
   "metadata": {},
   "cell_type": "code",
   "source": [
    "%env ISENGARD_PRODUCTION_ACCOUNT=false\n",
    "%env AWS_ACCESS_KEY_ID=\n",
    "%env AWS_SECRET_ACCESS_KEY=\n",
    "%env AWS_SESSION_TOKEN=\n",
    "%env OUTPUT_BUCKET=\n",
    "%env EVENT_BUS_NAME=\n",
    "%env ARCADE_STAC_SERVER_URL=\n",
    "%env AWS_BATCH_JOB_ID=\n",
    "%env INPUT_PREFIX=\n",
    "%env INPUT_FILENAME="
   ],
   "id": "dd211a47-0b65-4149-92a2-ebdbe2030538",
   "outputs": [],
   "execution_count": null
  },
  {
   "metadata": {},
   "cell_type": "code",
   "source": [
    "engine_input = {\"id\": \"01hwvwmm5d2crn4xx8k0s0a61z\", \"groupId\": \"01hwsqbq5trgzmd8k19mkhepz9\", \"name\": \"test_farm_area\", \"attributes\": {}, \"tags\": {},\n",
    "\t\t\t\t\"scheduleExpressionTimezone\": \"Australia/Perth\", \"scheduleExpression\": \"at(2024-04-01T11:37:00)\", \"createdBy\": \"willsia@amazon.com\",\n",
    "\t\t\t\t\"createdAt\": \"2024-05-02T05:32:36.910Z\", \"scheduleDateTime\": \"2024-05-02\",\n",
    "\t\t\t\t\"coordinates\": [[-104.5079674, 39.9194752], [-104.4894065, 39.9193435], [-104.4893912, 39.9122295], [-104.5078877, 39.9123941], [-104.5079674, 39.9194752]],\n",
    "\t\t\t\t\"polygonId\": \"01hwvwmv68evdbrm1z89ay269b\", \"regionId\": \"01hwvwmm5d2crn4xx8k0s0a61z\", \"resultId\": \"01hwyh9ehcbh3y8fjvms496d4y\",\n",
    "\t\t\t\t\"outputPrefix\": \"region=01hwvwmm5d2crn4xx8k0s0a61z/result=01hwyh9ehcbh3y8fjvms496d4y/output/polygon=01hwvwmv68evdbrm1z89ay269b\"}"
   ],
   "id": "ab9af3a1edc7855a",
   "outputs": [],
   "execution_count": null
  },
  {
   "metadata": {},
   "cell_type": "markdown",
   "source": "## Load Stac Datasets",
   "id": "1d6da9931dfadbd4"
  },
  {
   "metadata": {},
   "cell_type": "code",
   "source": [
    "request = EngineProcessRequest.from_dict(engine_input)\n",
    "processor = STACCatalogProcessor(request)\n",
    "stac_assets, previous_ndvi_raster = processor.load_stac_datasets()\n",
    "\n",
    "bucket_name = os.getenv(\"OUTPUT_BUCKET\")\n",
    "temp_dir = \"{}/{}\".format(os.getcwd(), \"output\")\n",
    "\n",
    "print(stac_assets)"
   ],
   "id": "eeb33bd263879f9b",
   "outputs": [],
   "execution_count": null
  },
  {
   "metadata": {},
   "cell_type": "markdown",
   "source": "## Plot Region (Debugging)",
   "id": "6773754a02c522fa"
  },
  {
   "metadata": {},
   "cell_type": "code",
   "source": [
    "CRS = 'epsg:4326'\n",
    "polygon = geom.Polygon(request.coordinates)\n",
    "polygon_array = [polygon]\n",
    "polygon_series = gpd.GeoSeries(polygon_array, crs=CRS)\n",
    "aoi = gpd.GeoDataFrame(geometry=polygon_series, crs=CRS)\n",
    "aoi.plot(figsize=(10, 8), alpha=0.5, edgecolor='k')\n",
    "bounding_box = polygon_series.total_bounds"
   ],
   "id": "d173f3970abf18de",
   "outputs": [],
   "execution_count": null
  },
  {
   "cell_type": "markdown",
   "id": "9a4eca40-c20d-4b41-a875-028bc9ea81c9",
   "metadata": {},
   "source": "## 1. Calculate cloud removal bands"
  },
  {
   "metadata": {},
   "cell_type": "code",
   "source": [
    "# Perform cloud removal\n",
    "stac_assets['scl_cloud_removed'] = XarrayUtils.remove_cloud(stac_assets[['scl']])\n",
    "print(stac_assets)"
   ],
   "id": "5f96daeb9c6eb13a",
   "outputs": [],
   "execution_count": null
  },
  {
   "metadata": {},
   "cell_type": "markdown",
   "source": "### 1.a. Plot after cloud removal (debugging)",
   "id": "8ede42eed402ddd6"
  },
  {
   "cell_type": "code",
   "id": "3f1e5e46-c594-44b9-84ee-e1c8e8302d36",
   "metadata": {},
   "source": [
    "from pystac.extensions.projection import ProjectionExtension\n",
    "import matplotlib.pyplot as plt\n",
    "import matplotlib.patches as mpatches\n",
    "from pyproj import CRS\n",
    "\n",
    "sentinel_epsg = ProjectionExtension.ext(processor.stac_item).epsg\n",
    "output_crs = CRS.from_epsg(sentinel_epsg)\n",
    "\n",
    "aoi_projected = aoi.to_crs(output_crs)\n",
    "\n",
    "scl_color_def = [\n",
    "\t(0, '#000000', 'No data'),  # black\n",
    "\t(1, '#ff0000', 'Saturated or defective'),  # red\n",
    "\t(2, '#404040', 'Cast shadows'),  # gray\n",
    "\t(3, '#833c0b', 'Cloud shadows'),  # brown\n",
    "\t(4, '#04ff00', 'Vegetation'),  # green\n",
    "\t(5, '#ffff00', 'Not vegetated (bare soil)'),  # yellow\n",
    "\t(6, '#0000cc', 'Water'),  # blue\n",
    "\t(7, '#757171', 'Unclassified'),  # medium gray\n",
    "\t(8, '#aeaaaa', 'Cloud medium probability'),  # light gray\n",
    "\t(9, '#d0cece', 'cloud high probability'),  # very light gray\n",
    "\t(10, '#00ccff', 'Thin cirrus'),  # light blue/purple\n",
    "\t(11, '#ff66ff', 'Snow or ice'),  # cyan\n",
    "]\n",
    "scl_color_hex = [x[1] for x in scl_color_def]\n",
    "_ = (\n",
    "\t# cloud_removed.isel(time=0)\t# return new xarray.DataSet with each array index along the `time` dimension\n",
    "\tstac_assets[['scl_cloud_removed']]\n",
    "\t.isel(time=0)  # return new xarray.DataSet with each array index along the `time` dimension\n",
    "\t.to_array(\"band\")  # convert to xarray.DataArray\n",
    "\t.plot.imshow(  # wraps matplotlib.pyplot.imshow()\n",
    "\t\tcol=\"band\",  # make column faceted plots on this dimension name\n",
    "\t\tsize=5,  # height (in inches) of each plot.\n",
    "\t\tvmin=0,  # Lower value to anchor the colormap\n",
    "\t\tvmax=11,  # Upper value to anchor the colormap\n",
    "\t\tcolors=scl_color_hex,\n",
    "\t\tlevels=13,\n",
    "\t\tadd_colorbar=False)\n",
    ")\n",
    "\n",
    "plt.title(\"Scene Classification Layer (SCL) Band - Surface Only\")\n",
    "plt.xlabel(\"longitude\")\n",
    "plt.ylabel(\"latitude\")\n",
    "\n",
    "ax = plt.gca()\n",
    "ax.axis(\"equal\")\n",
    "\n",
    "# Create a legend object and add the patches to it\n",
    "masked_color_def = [\n",
    "\t('X', '#404040', 'Removed'),\n",
    "\t(4, '#04ff00', 'Vegetation'),  # green\n",
    "\t(5, '#ffff00', 'Not vegetated'),  # yellow\n",
    "\t(6, '#0000cc', 'Water')  # blue\n",
    "]\n",
    "patches = []\n",
    "for color in masked_color_def:\n",
    "\tpatch = mpatches.Patch(color=color[1], label='{} - {}'.format(color[0], color[2]))\n",
    "\tpatches.append(patch)\n",
    "plt.legend(handles=patches, title='Classification', bbox_to_anchor=(1.6, 1))\n",
    "\n",
    "# add the zone boundaries\n",
    "_ = aoi_projected.plot(ax=ax, facecolor=\"none\", edgecolor='red', lw=3)"
   ],
   "outputs": [],
   "execution_count": null
  },
  {
   "metadata": {},
   "cell_type": "markdown",
   "source": "## 2. Calculate ndvi raw",
   "id": "bb97d57a7d909a8e"
  },
  {
   "metadata": {},
   "cell_type": "code",
   "source": [
    "stac_assets['ndvi_raw'] = XarrayUtils.calculate_ndvi(stac_assets)\n",
    "print(stac_assets[['ndvi_raw']])"
   ],
   "id": "f8a490f9a7b0a757",
   "outputs": [],
   "execution_count": null
  },
  {
   "metadata": {},
   "cell_type": "markdown",
   "source": "## 3. Fill cloud gap",
   "id": "da75118d2cfaa5d1"
  },
  {
   "metadata": {},
   "cell_type": "code",
   "source": [
    "stac_assets[\"ndvi\"] = XarrayUtils.fill_cloud_gap(stac_assets[\"scl_cloud_removed\"], stac_assets['ndvi_raw'], previous_ndvi_raster)\n",
    "print(stac_assets[['ndvi']])"
   ],
   "id": "50cf30d123f99587",
   "outputs": [],
   "execution_count": null
  },
  {
   "metadata": {},
   "cell_type": "markdown",
   "source": "## 4. Calculate ndvi change",
   "id": "913e983b727b3033"
  },
  {
   "metadata": {},
   "cell_type": "code",
   "source": [
    "if previous_ndvi_raster is not None:\n",
    "\tstac_assets['ndvi_change'] = XarrayUtils.calculate_ndvi_change(stac_assets['ndvi'], previous_ndvi_raster)\n",
    "\tprint(stac_assets[['ndvi_change']])"
   ],
   "id": "e307d44b10446e5e",
   "outputs": [],
   "execution_count": null
  },
  {
   "metadata": {},
   "cell_type": "markdown",
   "source": "## 5. Generate metadata",
   "id": "5bf86e2745701382"
  },
  {
   "metadata": {},
   "cell_type": "code",
   "source": [
    "sentinel_link = [{\"rel\": \"derived_from\", \"href\": link.href, \"type\": link.media_type} for link in processor.stac_item.links if link.rel == 'self'].pop()\n",
    "\n",
    "# generate metadata.json\n",
    "MetadataUtils.generate_metadata(sentinel_link, processor.bounding_box.tolist(), request.coordinates, stac_assets, temp_dir, bucket_name, request.output_prefix)\n",
    "\n",
    "# upload assets to s3\n",
    "MetadataUtils.upload_assets(bucket_name, request.output_prefix, temp_dir)"
   ],
   "id": "71aaef7dc311fe59",
   "outputs": [],
   "execution_count": null
  },
  {
   "metadata": {},
   "cell_type": "markdown",
   "source": "## 6. Publish finish event",
   "id": "a834396f22002ce7"
  },
  {
   "metadata": {},
   "cell_type": "code",
   "source": [
    "import boto3\n",
    "from datetime import datetime\n",
    "\n",
    "# Define the event details\n",
    "event_bus_name = os.getenv(\"OUTPUT_BUCKET\")\n",
    "aws_batch_job_id = os.getenv(\"AWS_BATCH_JOB_ID\")\n",
    "eventbridge = boto3.client('events')\n",
    "event = {\n",
    "\t'EventBusName': event_bus_name,\n",
    "\t'Source': 'com.aws.arcade.executor',\n",
    "\t'DetailType': 'com.aws.arcade.executor>polygonMetadata>created',\n",
    "\t'Detail': json.dumps({\n",
    "\t\t\"groupId\": request.group_id,\n",
    "\t\t\"polygonId\": request.polygon_id,\n",
    "\t\t\"regionId\": request.region_id,\n",
    "\t\t\"resultId\": request.result_id,\n",
    "\t\t\"jobId\": aws_batch_job_id,\n",
    "\t\t\"scheduleDateTime\": request.schedule_date_time,\n",
    "\t\t\"engineOutputLocation\": f'{request.output_prefix}/metadata.json',\n",
    "\t\t\"createdAt\": datetime.now().isoformat()\n",
    "\t})}\n",
    "\n",
    "# Publish the event to EventBridge\n",
    "response = eventbridge.put_events(\n",
    "\tEntries=[\n",
    "\t\t{\n",
    "\t\t\t'Source': event['Source'],\n",
    "\t\t\t'DetailType': event['DetailType'],\n",
    "\t\t\t'Detail': event['Detail']\n",
    "\t\t}\n",
    "\t]\n",
    ")\n",
    "\n",
    "print(response)"
   ],
   "id": "e92be030db032a57",
   "outputs": [],
   "execution_count": null
  }
 ],
 "metadata": {
  "kernelspec": {
   "display_name": "Python 3 (ipykernel)",
   "language": "python",
   "name": "python3"
  },
  "language_info": {
   "codemirror_mode": {
    "name": "ipython",
    "version": 3
   },
   "file_extension": ".py",
   "mimetype": "text/x-python",
   "name": "python",
   "nbconvert_exporter": "python",
   "pygments_lexer": "ipython3",
   "version": "3.10.14"
  }
 },
 "nbformat": 4,
 "nbformat_minor": 5
}
