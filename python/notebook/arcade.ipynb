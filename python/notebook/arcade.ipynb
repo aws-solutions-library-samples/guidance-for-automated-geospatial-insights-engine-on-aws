{
 "cells": [
  {
   "cell_type": "code",
   "id": "cbb0f39af4a1ea9d",
   "metadata": {
    "ExecuteTime": {
     "end_time": "2024-06-24T04:23:41.649661Z",
     "start_time": "2024-06-24T04:23:41.643719Z"
    }
   },
   "source": [
    "import json\n",
    "import os\n",
    "import sys\n",
    "\n",
    "import geopandas as gpd\n",
    "import shapely.geometry as geom\n",
    "\n",
    "# Re-use some of the libraries that are used by app\n",
    "sys.path.append('../apps/arcade-pipeline')\n",
    "sys.path.append('../apps/arcade-pipeline/processors')\n",
    "\n",
    "from processors.xarray_utils import XarrayUtils\n",
    "from processors.metadata_utils import MetadataUtils\n",
    "from stac_catalog_processor import STACCatalogProcessor, EngineRequest"
   ],
   "outputs": [],
   "execution_count": 11
  },
  {
   "metadata": {},
   "cell_type": "markdown",
   "source": "## Set with your environment specific value",
   "id": "f7249eb30daadef5"
  },
  {
   "metadata": {
    "ExecuteTime": {
     "end_time": "2024-06-24T04:23:43.251268Z",
     "start_time": "2024-06-24T04:23:43.241174Z"
    }
   },
   "cell_type": "code",
   "source": [
    "%env ISENGARD_PRODUCTION_ACCOUNT=false\n",
    "%env AWS_ACCESS_KEY_ID=\n",
    "%env AWS_SECRET_ACCESS_KEY=\n",
    "%env AWS_SESSION_TOKEN=\n",
    "%env OUTPUT_BUCKET=\n",
    "%env EVENT_BUS_NAME=\n",
    "%env ARCADE_STAC_SERVER_URL=\n",
    "%env AWS_BATCH_JOB_ID=\n",
    "%env INPUT_PREFIX=\n",
    "%env INPUT_FILENAME="
   ],
   "id": "dd211a47-0b65-4149-92a2-ebdbe2030538",
   "outputs": [
    {
     "name": "stdout",
     "output_type": "stream",
     "text": [
      "env: ISENGARD_PRODUCTION_ACCOUNT=false\n",
      "env: AWS_ACCESS_KEY_ID=\n",
      "env: AWS_SECRET_ACCESS_KEY=\n",
      "env: AWS_SESSION_TOKEN=\n",
      "env: OUTPUT_BUCKET=\n",
      "env: EVENT_BUS_NAME=\n",
      "env: ARCADE_STAC_SERVER_URL=\n",
      "env: AWS_BATCH_JOB_ID=\n",
      "env: INPUT_PREFIX=\n",
      "env: INPUT_FILENAME=\n"
     ]
    }
   ],
   "execution_count": 12
  },
  {
   "metadata": {
    "ExecuteTime": {
     "end_time": "2024-06-24T04:23:44.055402Z",
     "start_time": "2024-06-24T04:23:43.904151Z"
    }
   },
   "cell_type": "code",
   "source": [
    "engine_input = {\n",
    "\t\"id\": \"01hycfbar7jeq9r5cb85tfqhtf\",\n",
    "\t\"groupId\": \"01hycfb6z0jgkmb3hcm2sfpzvt\",\n",
    "\t\"name\": \"test-region-1\",\n",
    "\t\"totalArea\": 247.7830501003104,\n",
    "\t\"totalPolygons\": 1,\n",
    "\t\"processingConfig\": {\n",
    "\t\t\"mode\": \"scheduled\",\n",
    "\t\t\"scheduleExpression\": \"at(2024-05-21T10:24:13)\",\n",
    "\t\t\"scheduleExpressionTimezone\": \"Australia/Perth\",\n",
    "\t\t\"priority\": \"high\"\n",
    "\t},\n",
    "\t\"createdBy\": \"willsia@amazon.com\",\n",
    "\t\"createdAt\": \"2024-05-21T02:23:08.039Z\",\n",
    "\t\"boundingBox\": [\n",
    "\t\t-104.4999483,\n",
    "\t\t39.9268103,\n",
    "\t\t-104.4895199,\n",
    "\t\t39.9390518\n",
    "\t],\n",
    "\t\"attributes\": {\n",
    "\t\t\"attr2\": \"attr-two\",\n",
    "\t\t\"attr1\": \"attr-one\"\n",
    "\t},\n",
    "\t\"tags\": {\n",
    "\t\t\"arcade:results:createdAt\": \"2023-05-20T02:24:34.245Z\",\n",
    "\t\t\"arcade:results:id\": \"01hycfdszm9prvjktq1v472h0b\",\n",
    "\t\t\"arcade:results:message\": \"Essential container in task exited\",\n",
    "\t\t\"arcade:results:status\": \"succeeded\",\n",
    "\t\t\"arcade:results:updatedAt\": \"2023-05-21T02:25:51.139Z\",\n",
    "\t\t\"created-by-integration-test\": \"scheduler-module-resources\",\n",
    "\t\t\"tag2\": \"tag-two\"\n",
    "\t},\n",
    "\t\"updatedAt\": \"2024-05-21T02:25:51.448Z\",\n",
    "\t\"scheduleDateTime\": \"2024-05-21\",\n",
    "\t\"coordinates\": [[[\n",
    "\t\t[\n",
    "\t\t\t-104.4895628,\n",
    "\t\t\t39.9390518\n",
    "\t\t],\n",
    "\t\t[\n",
    "\t\t\t-104.492009,\n",
    "\t\t\t39.938295\n",
    "\t\t],\n",
    "\t\t[\n",
    "\t\t\t-104.4926527,\n",
    "\t\t\t39.9376369\n",
    "\t\t],\n",
    "\t\t[\n",
    "\t\t\t-104.494026,\n",
    "\t\t\t39.9378015\n",
    "\t\t],\n",
    "\t\t[\n",
    "\t\t\t-104.4971159,\n",
    "\t\t\t39.9367485\n",
    "\t\t],\n",
    "\t\t[\n",
    "\t\t\t-104.4993046,\n",
    "\t\t\t39.9345767\n",
    "\t\t],\n",
    "\t\t[\n",
    "\t\t\t-104.4992188,\n",
    "\t\t\t39.9332933\n",
    "\t\t],\n",
    "\t\t[\n",
    "\t\t\t-104.4999483,\n",
    "\t\t\t39.931615\n",
    "\t\t],\n",
    "\t\t[\n",
    "\t\t\t-104.4996908,\n",
    "\t\t\t39.926909\n",
    "\t\t],\n",
    "\t\t[\n",
    "\t\t\t-104.4895199,\n",
    "\t\t\t39.9268103\n",
    "\t\t],\n",
    "\t\t[\n",
    "\t\t\t-104.4895628,\n",
    "\t\t\t39.9390518\n",
    "\t\t]\n",
    "\t]]],\n",
    "\t\"polygonId\": \"01hycfbf8771g01c4vntn71ypj\",\n",
    "\t\"polygonName\": \"samplePolygon\",\n",
    "\t\"regionId\": \"01hycfbar7jeq9r5cb85tfqhtf\",\n",
    "\t\"regionName\": \"sampleRegion\",\n",
    "\t\"groupName\": \"sampleGroupName\",\n",
    "\t\"resultId\": \"01hyckbtdsqsxehgc8tcdm6jgg\",\n",
    "\t\"state\": {\n",
    "\t\t\"id\": \"01hycfbg2f3rdv67xpgrxh7q91\",\n",
    "\t\t\"polygonId\": \"01hycfbf8771g01c4vntn71ypj\",\n",
    "\t\t\"regionId\": \"01hycfbar7jeq9r5cb85tfqhtf\",\n",
    "\t\t\"groupId\": \"01hycfb6z0jgkmb3hcm2sfpzvt\",\n",
    "\t\t\"timestamp\": \"2024-05-21T02:23:01.295Z\",\n",
    "\t\t\"createdBy\": \"willsia@amazon.com\",\n",
    "\t\t\"createdAt\": \"2024-05-21T02:23:13.487Z\",\n",
    "\t\t\"attributes\": {\n",
    "\t\t\t\"estimatedYield\": 1026\n",
    "\t\t},\n",
    "\t\t\"tags\": {\n",
    "\t\t\t\"created-by-integration-test\": \"scheduler-module-resources\",\n",
    "\t\t\t\"crop\": \"wheat\",\n",
    "\t\t\t\"plantedAt\": \"2024-03-14T16:00:00.000Z\"\n",
    "\t\t}\n",
    "\t},\n",
    "\t\"outputPrefix\": \"region=01hycfbar7jeq9r5cb85tfqhtf/result=01hyckbtdsqsxehgc8tcdm6jgg/output/polygon=01hycfbf8771g01c4vntn71ypj\"\n",
    "}"
   ],
   "id": "ab9af3a1edc7855a",
   "outputs": [],
   "execution_count": 13
  },
  {
   "metadata": {},
   "cell_type": "markdown",
   "source": "## Load Stac Datasets",
   "id": "1d6da9931dfadbd4"
  },
  {
   "metadata": {
    "ExecuteTime": {
     "end_time": "2024-06-24T04:24:05.330621Z",
     "start_time": "2024-06-24T04:23:46.341062Z"
    }
   },
   "cell_type": "code",
   "source": [
    "request = EngineRequest.from_dict(engine_input)\n",
    "processor = STACCatalogProcessor(request)\n",
    "stac_assets, previous_ndvi_raster = processor.load_stac_datasets()\n",
    "\n",
    "bucket_name = os.getenv(\"OUTPUT_BUCKET\")\n",
    "temp_dir = \"{}/{}\".format(os.getcwd(), \"output\")\n",
    "\n",
    "print(stac_assets)"
   ],
   "id": "102b31efd2be453f",
   "execution_count": 14,
   "outputs": [
    {
     "name": "stdout",
     "output_type": "stream",
     "text": [
      "Found: 2 items\n",
      "<xarray.Dataset> Size: 114kB\n",
      "Dimensions:      (time: 1, x: 91, y: 137)\n",
      "Coordinates:\n",
      "  * time         (time) datetime64[ns] 8B 2024-05-20T18:02:50.622000\n",
      "  * x            (x) float64 728B 5.427e+05 5.427e+05 ... 5.436e+05 5.436e+05\n",
      "  * y            (y) float64 1kB 4.421e+06 4.421e+06 ... 4.42e+06 4.42e+06\n",
      "    spatial_ref  int64 8B 0\n",
      "Data variables:\n",
      "    red          (time, y, x) uint16 25kB 2442 2526 2290 2106 ... 3690 3646 3514\n",
      "    green        (time, y, x) uint16 25kB 2290 2262 2088 2010 ... 3088 3020 2922\n",
      "    blue         (time, y, x) uint16 25kB 1872 1858 1710 1652 ... 2532 2498 2392\n",
      "    nir08        (time, y, x) uint16 25kB 4618 4618 4546 4546 ... 4499 4499 4325\n",
      "    scl          (time, y, x) uint8 12kB 5 5 4 4 4 4 5 5 5 ... 5 5 5 5 5 5 5 5 5\n"
     ]
    }
   ]
  },
  {
   "metadata": {},
   "cell_type": "markdown",
   "source": "## Plot Region (Debugging)",
   "id": "6773754a02c522fa"
  },
  {
   "metadata": {
    "ExecuteTime": {
     "end_time": "2024-06-24T04:24:10.562029Z",
     "start_time": "2024-06-24T04:24:10.475191Z"
    }
   },
   "cell_type": "code",
   "source": [
    "CRS = 'epsg:4326'\n",
    "polygon_list = []\n",
    "for coord in request.coordinates:\n",
    "\tfor test in coord:\n",
    "\t\tpolygon_list.append(geom.Polygon(test))\n",
    "polygon_series = gpd.GeoSeries(polygon_list, crs='epsg:4326')\n",
    "aoi = gpd.GeoDataFrame(geometry=polygon_series, crs=CRS)\n",
    "aoi.plot(figsize=(10, 8), alpha=0.5, edgecolor='k')\n",
    "bounding_box = polygon_series.total_bounds"
   ],
   "id": "d173f3970abf18de",
   "outputs": [
    {
     "data": {
      "text/plain": [
       "<Figure size 1000x800 with 1 Axes>"
      ],
      "image/png": "[encoded data removed]"
     },
     "metadata": {},
     "output_type": "display_data"
    }
   ],
   "execution_count": 15
  },
  {
   "cell_type": "markdown",
   "id": "9a4eca40-c20d-4b41-a875-028bc9ea81c9",
   "metadata": {},
   "source": "## 1. Calculate cloud removal bands"
  },
  {
   "metadata": {
    "ExecuteTime": {
     "end_time": "2024-06-24T04:24:12.062217Z",
     "start_time": "2024-06-24T04:24:12.056593Z"
    }
   },
   "cell_type": "code",
   "source": [
    "# Perform cloud removal\n",
    "stac_assets['scl_cloud_removed'] = XarrayUtils.remove_cloud(stac_assets[['scl']])\n",
    "print(stac_assets)"
   ],
   "id": "5f96daeb9c6eb13a",
   "outputs": [
    {
     "name": "stdout",
     "output_type": "stream",
     "text": [
      "<xarray.Dataset> Size: 127kB\n",
      "Dimensions:            (time: 1, x: 91, y: 137)\n",
      "Coordinates:\n",
      "  * time               (time) datetime64[ns] 8B 2024-05-20T18:02:50.622000\n",
      "  * x                  (x) float64 728B 5.427e+05 5.427e+05 ... 5.436e+05\n",
      "  * y                  (y) float64 1kB 4.421e+06 4.421e+06 ... 4.42e+06 4.42e+06\n",
      "    spatial_ref        int64 8B 0\n",
      "    variable           <U3 12B 'scl'\n",
      "Data variables:\n",
      "    red                (time, y, x) uint16 25kB 2442 2526 2290 ... 3646 3514\n",
      "    green              (time, y, x) uint16 25kB 2290 2262 2088 ... 3020 2922\n",
      "    blue               (time, y, x) uint16 25kB 1872 1858 1710 ... 2498 2392\n",
      "    nir08              (time, y, x) uint16 25kB 4618 4618 4546 ... 4499 4325\n",
      "    scl                (time, y, x) uint8 12kB 5 5 4 4 4 4 5 5 ... 5 5 5 5 5 5 5\n",
      "    scl_cloud_removed  (time, y, x) uint8 12kB 5 5 4 4 4 4 5 5 ... 5 5 5 5 5 5 5\n"
     ]
    }
   ],
   "execution_count": 16
  },
  {
   "metadata": {},
   "cell_type": "markdown",
   "source": "### 1.a. Plot after cloud removal (debugging)",
   "id": "8ede42eed402ddd6"
  },
  {
   "cell_type": "code",
   "id": "3f1e5e46-c594-44b9-84ee-e1c8e8302d36",
   "metadata": {
    "ExecuteTime": {
     "end_time": "2024-06-24T04:24:13.840441Z",
     "start_time": "2024-06-24T04:24:13.699528Z"
    }
   },
   "source": [
    "from pystac.extensions.projection import ProjectionExtension\n",
    "import matplotlib.pyplot as plt\n",
    "import matplotlib.patches as mpatches\n",
    "from pyproj import CRS\n",
    "\n",
    "sentinel_epsg = ProjectionExtension.ext(processor.stac_items[0]).epsg\n",
    "output_crs = CRS.from_epsg(sentinel_epsg)\n",
    "\n",
    "aoi_projected = aoi.to_crs(output_crs)\n",
    "\n",
    "scl_color_def = [\n",
    "\t(0, '#000000', 'No data'),  # black\n",
    "\t(1, '#ff0000', 'Saturated or defective'),  # red\n",
    "\t(2, '#404040', 'Cast shadows'),  # gray\n",
    "\t(3, '#833c0b', 'Cloud shadows'),  # brown\n",
    "\t(4, '#04ff00', 'Vegetation'),  # green\n",
    "\t(5, '#ffff00', 'Not vegetated (bare soil)'),  # yellow\n",
    "\t(6, '#0000cc', 'Water'),  # blue\n",
    "\t(7, '#757171', 'Unclassified'),  # medium gray\n",
    "\t(8, '#aeaaaa', 'Cloud medium probability'),  # light gray\n",
    "\t(9, '#d0cece', 'cloud high probability'),  # very light gray\n",
    "\t(10, '#00ccff', 'Thin cirrus'),  # light blue/purple\n",
    "\t(11, '#ff66ff', 'Snow or ice'),  # cyan\n",
    "]\n",
    "scl_color_hex = [x[1] for x in scl_color_def]\n",
    "_ = (\n",
    "\t# cloud_removed.isel(time=0)\t# return new xarray.DataSet with each array index along the `time` dimension\n",
    "\tstac_assets[['scl_cloud_removed']]\n",
    "\t.isel(time=0)  # return new xarray.DataSet with each array index along the `time` dimension\n",
    "\t.to_array(\"band\")  # convert to xarray.DataArray\n",
    "\t.plot.imshow(  # wraps matplotlib.pyplot.imshow()\n",
    "\t\tcol=\"band\",  # make column faceted plots on this dimension name\n",
    "\t\tsize=5,  # height (in inches) of each plot.\n",
    "\t\tvmin=0,  # Lower value to anchor the colormap\n",
    "\t\tvmax=11,  # Upper value to anchor the colormap\n",
    "\t\tcolors=scl_color_hex,\n",
    "\t\tlevels=13,\n",
    "\t\tadd_colorbar=False)\n",
    ")\n",
    "\n",
    "plt.title(\"Scene Classification Layer (SCL) Band - Surface Only\")\n",
    "plt.xlabel(\"longitude\")\n",
    "plt.ylabel(\"latitude\")\n",
    "\n",
    "ax = plt.gca()\n",
    "ax.axis(\"equal\")\n",
    "\n",
    "# Create a legend object and add the patches to it\n",
    "masked_color_def = [\n",
    "\t('X', '#404040', 'Removed'),\n",
    "\t(4, '#04ff00', 'Vegetation'),  # green\n",
    "\t(5, '#ffff00', 'Not vegetated'),  # yellow\n",
    "\t(6, '#0000cc', 'Water')  # blue\n",
    "]\n",
    "patches = []\n",
    "for color in masked_color_def:\n",
    "\tpatch = mpatches.Patch(color=color[1], label='{} - {}'.format(color[0], color[2]))\n",
    "\tpatches.append(patch)\n",
    "plt.legend(handles=patches, title='Classification', bbox_to_anchor=(1.6, 1))\n",
    "\n",
    "# add the zone boundaries\n",
    "_ = aoi_projected.plot(ax=ax, facecolor=\"none\", edgecolor='red', lw=3)"
   ],
   "outputs": [
    {
     "data": {
      "text/plain": [
       "<Figure size 600x500 with 1 Axes>"
      ],
      "image/png": "[encoded data removed]"
     },
     "metadata": {},
     "output_type": "display_data"
    }
   ],
   "execution_count": 17
  },
  {
   "metadata": {},
   "cell_type": "markdown",
   "source": "## 2. Calculate ndvi raw",
   "id": "bb97d57a7d909a8e"
  },
  {
   "metadata": {
    "ExecuteTime": {
     "end_time": "2024-06-24T04:24:24.765778Z",
     "start_time": "2024-06-24T04:24:24.758506Z"
    }
   },
   "cell_type": "code",
   "source": [
    "stac_assets['ndvi_raw'] = XarrayUtils.calculate_ndvi(stac_assets)\n",
    "print(stac_assets[['ndvi_raw']])"
   ],
   "id": "f8a490f9a7b0a757",
   "outputs": [
    {
     "name": "stdout",
     "output_type": "stream",
     "text": [
      "<xarray.Dataset> Size: 102kB\n",
      "Dimensions:      (time: 1, y: 137, x: 91)\n",
      "Coordinates:\n",
      "  * time         (time) datetime64[ns] 8B 2024-05-20T18:02:50.622000\n",
      "  * x            (x) float64 728B 5.427e+05 5.427e+05 ... 5.436e+05 5.436e+05\n",
      "  * y            (y) float64 1kB 4.421e+06 4.421e+06 ... 4.42e+06 4.42e+06\n",
      "    spatial_ref  int64 8B 0\n",
      "    variable     <U3 12B 'scl'\n",
      "Data variables:\n",
      "    ndvi_raw     (time, y, x) float64 100kB 0.3082 0.2928 0.33 ... 0.1047 0.1035\n"
     ]
    }
   ],
   "execution_count": 18
  },
  {
   "metadata": {},
   "cell_type": "markdown",
   "source": "## 3. Fill cloud gap",
   "id": "da75118d2cfaa5d1"
  },
  {
   "metadata": {
    "ExecuteTime": {
     "end_time": "2024-06-24T02:35:30.012736Z",
     "start_time": "2024-06-24T02:35:30.003713Z"
    }
   },
   "cell_type": "code",
   "source": [
    "stac_assets[\"ndvi\"] = XarrayUtils.fill_cloud_gap(stac_assets[\"scl_cloud_removed\"], stac_assets['ndvi_raw'], previous_ndvi_raster)\n",
    "print(stac_assets[['ndvi']])"
   ],
   "id": "50cf30d123f99587",
   "outputs": [
    {
     "name": "stdout",
     "output_type": "stream",
     "text": [
      "<xarray.Dataset> Size: 16kB\n",
      "Dimensions:      (time: 1, y: 74, x: 26)\n",
      "Coordinates:\n",
      "  * time         (time) datetime64[ns] 8B 2023-06-13T16:34:43.264000\n",
      "  * x            (x) float64 208B 5.365e+05 5.365e+05 ... 5.367e+05 5.367e+05\n",
      "  * y            (y) float64 592B 3.585e+06 3.585e+06 ... 3.584e+06 3.584e+06\n",
      "    spatial_ref  int64 8B 0\n",
      "    variable     <U3 12B 'scl'\n",
      "Data variables:\n",
      "    ndvi         (time, y, x) float64 15kB nan 3.551 3.551 3.555 ... nan nan nan\n"
     ]
    }
   ],
   "execution_count": 21
  },
  {
   "metadata": {},
   "cell_type": "markdown",
   "source": "## 4. Calculate ndvi change",
   "id": "913e983b727b3033"
  },
  {
   "metadata": {
    "ExecuteTime": {
     "end_time": "2024-06-24T02:35:31.145034Z",
     "start_time": "2024-06-24T02:35:31.137039Z"
    }
   },
   "cell_type": "code",
   "source": [
    "if previous_ndvi_raster is not None:\n",
    "\tstac_assets['ndvi_change'] = XarrayUtils.calculate_ndvi_change(stac_assets['ndvi'], previous_ndvi_raster)\n",
    "\tprint(stac_assets[['ndvi_change']])"
   ],
   "id": "e307d44b10446e5e",
   "outputs": [],
   "execution_count": 22
  },
  {
   "metadata": {},
   "cell_type": "markdown",
   "source": "## 5. Generate metadata",
   "id": "5bf86e2745701382"
  },
  {
   "metadata": {
    "ExecuteTime": {
     "end_time": "2024-06-24T02:35:36.979387Z",
     "start_time": "2024-06-24T02:35:34.820200Z"
    }
   },
   "cell_type": "code",
   "source": [
    "sentinel_link = []\n",
    "for item in processor.stac_items:\n",
    "\tfor link in item.links:\n",
    "\t\tif link.rel == 'self':\n",
    "\t\t\tsentinel_link.append({\"rel\": \"derived_from\", \"href\": link.href, \"type\": link.media_type})\n",
    "\n",
    "# generate metadata.json\n",
    "MetadataUtils.generate_metadata(sentinel_link, processor.bounding_box, stac_assets, temp_dir, bucket_name, request)\n",
    "\n",
    "# upload assets to s3\n",
    "MetadataUtils.upload_assets(bucket_name, request.output_prefix, temp_dir)"
   ],
   "id": "71aaef7dc311fe59",
   "outputs": [
    {
     "ename": "ParamValidationError",
     "evalue": "Parameter validation failed:\nInvalid bucket name \"\": Bucket name must match the regex \"^[a-zA-Z0-9.\\-_]{1,255}$\" or be an ARN matching the regex \"^arn:(aws).*:(s3|s3-object-lambda):[a-z\\-0-9]*:[0-9]{12}:accesspoint[/:][a-zA-Z0-9\\-.]{1,63}$|^arn:(aws).*:s3-outposts:[a-z\\-0-9]+:[0-9]{12}:outpost[/:][a-zA-Z0-9\\-]{1,63}[/:]accesspoint[/:][a-zA-Z0-9\\-]{1,63}$\"",
     "output_type": "error",
     "traceback": [
      "\u001B[0;31m---------------------------------------------------------------------------\u001B[0m",
      "\u001B[0;31mParamValidationError\u001B[0m                      Traceback (most recent call last)",
      "Cell \u001B[0;32mIn[23], line 11\u001B[0m\n\u001B[1;32m      8\u001B[0m MetadataUtils\u001B[38;5;241m.\u001B[39mgenerate_metadata(sentinel_link, processor\u001B[38;5;241m.\u001B[39mbounding_box, stac_assets, temp_dir, bucket_name, request)\n\u001B[1;32m     10\u001B[0m \u001B[38;5;66;03m# upload assets to s3\u001B[39;00m\n\u001B[0;32m---> 11\u001B[0m \u001B[43mMetadataUtils\u001B[49m\u001B[38;5;241;43m.\u001B[39;49m\u001B[43mupload_assets\u001B[49m\u001B[43m(\u001B[49m\u001B[43mbucket_name\u001B[49m\u001B[43m,\u001B[49m\u001B[43m \u001B[49m\u001B[43mrequest\u001B[49m\u001B[38;5;241;43m.\u001B[39;49m\u001B[43moutput_prefix\u001B[49m\u001B[43m,\u001B[49m\u001B[43m \u001B[49m\u001B[43mtemp_dir\u001B[49m\u001B[43m)\u001B[49m\n",
      "File \u001B[0;32m~/Development/arcade/python/notebook/../apps/arcade-pipeline/processors/metadata_utils.py:125\u001B[0m, in \u001B[0;36mMetadataUtils.upload_assets\u001B[0;34m(bucket_name, key_prefix, temp_dir)\u001B[0m\n\u001B[1;32m    123\u001B[0m key \u001B[38;5;241m=\u001B[39m os\u001B[38;5;241m.\u001B[39mpath\u001B[38;5;241m.\u001B[39mrelpath(file_path, temp_dir)\n\u001B[1;32m    124\u001B[0m \u001B[38;5;66;03m# Upload the file to S3\u001B[39;00m\n\u001B[0;32m--> 125\u001B[0m \u001B[43ms3\u001B[49m\u001B[38;5;241;43m.\u001B[39;49m\u001B[43mupload_file\u001B[49m\u001B[43m(\u001B[49m\u001B[43mfile_path\u001B[49m\u001B[43m,\u001B[49m\u001B[43m \u001B[49m\u001B[43mbucket_name\u001B[49m\u001B[43m,\u001B[49m\u001B[43m \u001B[49m\u001B[43ms3_key\u001B[49m\u001B[43m)\u001B[49m\n\u001B[1;32m    126\u001B[0m \u001B[38;5;28mprint\u001B[39m(\u001B[38;5;124mf\u001B[39m\u001B[38;5;124m'\u001B[39m\u001B[38;5;124mUploaded \u001B[39m\u001B[38;5;132;01m{\u001B[39;00mfile_path\u001B[38;5;132;01m}\u001B[39;00m\u001B[38;5;124m to s3://\u001B[39m\u001B[38;5;132;01m{\u001B[39;00mbucket_name\u001B[38;5;132;01m}\u001B[39;00m\u001B[38;5;124m/\u001B[39m\u001B[38;5;132;01m{\u001B[39;00ms3_key\u001B[38;5;132;01m}\u001B[39;00m\u001B[38;5;124m'\u001B[39m)\n",
      "File \u001B[0;32m~/Development/arcade/python/notebook/venv/lib/python3.11/site-packages/boto3/s3/inject.py:145\u001B[0m, in \u001B[0;36mupload_file\u001B[0;34m(self, Filename, Bucket, Key, ExtraArgs, Callback, Config)\u001B[0m\n\u001B[1;32m    110\u001B[0m \u001B[38;5;250m\u001B[39m\u001B[38;5;124;03m\"\"\"Upload a file to an S3 object.\u001B[39;00m\n\u001B[1;32m    111\u001B[0m \n\u001B[1;32m    112\u001B[0m \u001B[38;5;124;03mUsage::\u001B[39;00m\n\u001B[0;32m   (...)\u001B[0m\n\u001B[1;32m    142\u001B[0m \u001B[38;5;124;03m    transfer.\u001B[39;00m\n\u001B[1;32m    143\u001B[0m \u001B[38;5;124;03m\"\"\"\u001B[39;00m\n\u001B[1;32m    144\u001B[0m \u001B[38;5;28;01mwith\u001B[39;00m S3Transfer(\u001B[38;5;28mself\u001B[39m, Config) \u001B[38;5;28;01mas\u001B[39;00m transfer:\n\u001B[0;32m--> 145\u001B[0m     \u001B[38;5;28;01mreturn\u001B[39;00m \u001B[43mtransfer\u001B[49m\u001B[38;5;241;43m.\u001B[39;49m\u001B[43mupload_file\u001B[49m\u001B[43m(\u001B[49m\n\u001B[1;32m    146\u001B[0m \u001B[43m        \u001B[49m\u001B[43mfilename\u001B[49m\u001B[38;5;241;43m=\u001B[39;49m\u001B[43mFilename\u001B[49m\u001B[43m,\u001B[49m\n\u001B[1;32m    147\u001B[0m \u001B[43m        \u001B[49m\u001B[43mbucket\u001B[49m\u001B[38;5;241;43m=\u001B[39;49m\u001B[43mBucket\u001B[49m\u001B[43m,\u001B[49m\n\u001B[1;32m    148\u001B[0m \u001B[43m        \u001B[49m\u001B[43mkey\u001B[49m\u001B[38;5;241;43m=\u001B[39;49m\u001B[43mKey\u001B[49m\u001B[43m,\u001B[49m\n\u001B[1;32m    149\u001B[0m \u001B[43m        \u001B[49m\u001B[43mextra_args\u001B[49m\u001B[38;5;241;43m=\u001B[39;49m\u001B[43mExtraArgs\u001B[49m\u001B[43m,\u001B[49m\n\u001B[1;32m    150\u001B[0m \u001B[43m        \u001B[49m\u001B[43mcallback\u001B[49m\u001B[38;5;241;43m=\u001B[39;49m\u001B[43mCallback\u001B[49m\u001B[43m,\u001B[49m\n\u001B[1;32m    151\u001B[0m \u001B[43m    \u001B[49m\u001B[43m)\u001B[49m\n",
      "File \u001B[0;32m~/Development/arcade/python/notebook/venv/lib/python3.11/site-packages/boto3/s3/transfer.py:371\u001B[0m, in \u001B[0;36mS3Transfer.upload_file\u001B[0;34m(self, filename, bucket, key, callback, extra_args)\u001B[0m\n\u001B[1;32m    367\u001B[0m future \u001B[38;5;241m=\u001B[39m \u001B[38;5;28mself\u001B[39m\u001B[38;5;241m.\u001B[39m_manager\u001B[38;5;241m.\u001B[39mupload(\n\u001B[1;32m    368\u001B[0m     filename, bucket, key, extra_args, subscribers\n\u001B[1;32m    369\u001B[0m )\n\u001B[1;32m    370\u001B[0m \u001B[38;5;28;01mtry\u001B[39;00m:\n\u001B[0;32m--> 371\u001B[0m     \u001B[43mfuture\u001B[49m\u001B[38;5;241;43m.\u001B[39;49m\u001B[43mresult\u001B[49m\u001B[43m(\u001B[49m\u001B[43m)\u001B[49m\n\u001B[1;32m    372\u001B[0m \u001B[38;5;66;03m# If a client error was raised, add the backwards compatibility layer\u001B[39;00m\n\u001B[1;32m    373\u001B[0m \u001B[38;5;66;03m# that raises a S3UploadFailedError. These specific errors were only\u001B[39;00m\n\u001B[1;32m    374\u001B[0m \u001B[38;5;66;03m# ever thrown for upload_parts but now can be thrown for any related\u001B[39;00m\n\u001B[1;32m    375\u001B[0m \u001B[38;5;66;03m# client error.\u001B[39;00m\n\u001B[1;32m    376\u001B[0m \u001B[38;5;28;01mexcept\u001B[39;00m ClientError \u001B[38;5;28;01mas\u001B[39;00m e:\n",
      "File \u001B[0;32m~/Development/arcade/python/notebook/venv/lib/python3.11/site-packages/s3transfer/futures.py:103\u001B[0m, in \u001B[0;36mTransferFuture.result\u001B[0;34m(self)\u001B[0m\n\u001B[1;32m     98\u001B[0m \u001B[38;5;28;01mdef\u001B[39;00m \u001B[38;5;21mresult\u001B[39m(\u001B[38;5;28mself\u001B[39m):\n\u001B[1;32m     99\u001B[0m     \u001B[38;5;28;01mtry\u001B[39;00m:\n\u001B[1;32m    100\u001B[0m         \u001B[38;5;66;03m# Usually the result() method blocks until the transfer is done,\u001B[39;00m\n\u001B[1;32m    101\u001B[0m         \u001B[38;5;66;03m# however if a KeyboardInterrupt is raised we want want to exit\u001B[39;00m\n\u001B[1;32m    102\u001B[0m         \u001B[38;5;66;03m# out of this and propagate the exception.\u001B[39;00m\n\u001B[0;32m--> 103\u001B[0m         \u001B[38;5;28;01mreturn\u001B[39;00m \u001B[38;5;28;43mself\u001B[39;49m\u001B[38;5;241;43m.\u001B[39;49m\u001B[43m_coordinator\u001B[49m\u001B[38;5;241;43m.\u001B[39;49m\u001B[43mresult\u001B[49m\u001B[43m(\u001B[49m\u001B[43m)\u001B[49m\n\u001B[1;32m    104\u001B[0m     \u001B[38;5;28;01mexcept\u001B[39;00m \u001B[38;5;167;01mKeyboardInterrupt\u001B[39;00m \u001B[38;5;28;01mas\u001B[39;00m e:\n\u001B[1;32m    105\u001B[0m         \u001B[38;5;28mself\u001B[39m\u001B[38;5;241m.\u001B[39mcancel()\n",
      "File \u001B[0;32m~/Development/arcade/python/notebook/venv/lib/python3.11/site-packages/s3transfer/futures.py:266\u001B[0m, in \u001B[0;36mTransferCoordinator.result\u001B[0;34m(self)\u001B[0m\n\u001B[1;32m    263\u001B[0m \u001B[38;5;66;03m# Once done waiting, raise an exception if present or return the\u001B[39;00m\n\u001B[1;32m    264\u001B[0m \u001B[38;5;66;03m# final result.\u001B[39;00m\n\u001B[1;32m    265\u001B[0m \u001B[38;5;28;01mif\u001B[39;00m \u001B[38;5;28mself\u001B[39m\u001B[38;5;241m.\u001B[39m_exception:\n\u001B[0;32m--> 266\u001B[0m     \u001B[38;5;28;01mraise\u001B[39;00m \u001B[38;5;28mself\u001B[39m\u001B[38;5;241m.\u001B[39m_exception\n\u001B[1;32m    267\u001B[0m \u001B[38;5;28;01mreturn\u001B[39;00m \u001B[38;5;28mself\u001B[39m\u001B[38;5;241m.\u001B[39m_result\n",
      "File \u001B[0;32m~/Development/arcade/python/notebook/venv/lib/python3.11/site-packages/s3transfer/tasks.py:139\u001B[0m, in \u001B[0;36mTask.__call__\u001B[0;34m(self)\u001B[0m\n\u001B[1;32m    135\u001B[0m     \u001B[38;5;66;03m# If the task is not done (really only if some other related\u001B[39;00m\n\u001B[1;32m    136\u001B[0m     \u001B[38;5;66;03m# task to the TransferFuture had failed) then execute the task's\u001B[39;00m\n\u001B[1;32m    137\u001B[0m     \u001B[38;5;66;03m# main() method.\u001B[39;00m\n\u001B[1;32m    138\u001B[0m     \u001B[38;5;28;01mif\u001B[39;00m \u001B[38;5;129;01mnot\u001B[39;00m \u001B[38;5;28mself\u001B[39m\u001B[38;5;241m.\u001B[39m_transfer_coordinator\u001B[38;5;241m.\u001B[39mdone():\n\u001B[0;32m--> 139\u001B[0m         \u001B[38;5;28;01mreturn\u001B[39;00m \u001B[38;5;28;43mself\u001B[39;49m\u001B[38;5;241;43m.\u001B[39;49m\u001B[43m_execute_main\u001B[49m\u001B[43m(\u001B[49m\u001B[43mkwargs\u001B[49m\u001B[43m)\u001B[49m\n\u001B[1;32m    140\u001B[0m \u001B[38;5;28;01mexcept\u001B[39;00m \u001B[38;5;167;01mException\u001B[39;00m \u001B[38;5;28;01mas\u001B[39;00m e:\n\u001B[1;32m    141\u001B[0m     \u001B[38;5;28mself\u001B[39m\u001B[38;5;241m.\u001B[39m_log_and_set_exception(e)\n",
      "File \u001B[0;32m~/Development/arcade/python/notebook/venv/lib/python3.11/site-packages/s3transfer/tasks.py:162\u001B[0m, in \u001B[0;36mTask._execute_main\u001B[0;34m(self, kwargs)\u001B[0m\n\u001B[1;32m    159\u001B[0m \u001B[38;5;66;03m# Log what is about to be executed.\u001B[39;00m\n\u001B[1;32m    160\u001B[0m logger\u001B[38;5;241m.\u001B[39mdebug(\u001B[38;5;124mf\u001B[39m\u001B[38;5;124m\"\u001B[39m\u001B[38;5;124mExecuting task \u001B[39m\u001B[38;5;132;01m{\u001B[39;00m\u001B[38;5;28mself\u001B[39m\u001B[38;5;132;01m}\u001B[39;00m\u001B[38;5;124m with kwargs \u001B[39m\u001B[38;5;132;01m{\u001B[39;00mkwargs_to_display\u001B[38;5;132;01m}\u001B[39;00m\u001B[38;5;124m\"\u001B[39m)\n\u001B[0;32m--> 162\u001B[0m return_value \u001B[38;5;241m=\u001B[39m \u001B[38;5;28;43mself\u001B[39;49m\u001B[38;5;241;43m.\u001B[39;49m\u001B[43m_main\u001B[49m\u001B[43m(\u001B[49m\u001B[38;5;241;43m*\u001B[39;49m\u001B[38;5;241;43m*\u001B[39;49m\u001B[43mkwargs\u001B[49m\u001B[43m)\u001B[49m\n\u001B[1;32m    163\u001B[0m \u001B[38;5;66;03m# If the task is the final task, then set the TransferFuture's\u001B[39;00m\n\u001B[1;32m    164\u001B[0m \u001B[38;5;66;03m# value to the return value from main().\u001B[39;00m\n\u001B[1;32m    165\u001B[0m \u001B[38;5;28;01mif\u001B[39;00m \u001B[38;5;28mself\u001B[39m\u001B[38;5;241m.\u001B[39m_is_final:\n",
      "File \u001B[0;32m~/Development/arcade/python/notebook/venv/lib/python3.11/site-packages/s3transfer/upload.py:764\u001B[0m, in \u001B[0;36mPutObjectTask._main\u001B[0;34m(self, client, fileobj, bucket, key, extra_args)\u001B[0m\n\u001B[1;32m    755\u001B[0m \u001B[38;5;250m\u001B[39m\u001B[38;5;124;03m\"\"\"\u001B[39;00m\n\u001B[1;32m    756\u001B[0m \u001B[38;5;124;03m:param client: The client to use when calling PutObject\u001B[39;00m\n\u001B[1;32m    757\u001B[0m \u001B[38;5;124;03m:param fileobj: The file to upload.\u001B[39;00m\n\u001B[0;32m   (...)\u001B[0m\n\u001B[1;32m    761\u001B[0m \u001B[38;5;124;03m    used in the upload.\u001B[39;00m\n\u001B[1;32m    762\u001B[0m \u001B[38;5;124;03m\"\"\"\u001B[39;00m\n\u001B[1;32m    763\u001B[0m \u001B[38;5;28;01mwith\u001B[39;00m fileobj \u001B[38;5;28;01mas\u001B[39;00m body:\n\u001B[0;32m--> 764\u001B[0m     \u001B[43mclient\u001B[49m\u001B[38;5;241;43m.\u001B[39;49m\u001B[43mput_object\u001B[49m\u001B[43m(\u001B[49m\u001B[43mBucket\u001B[49m\u001B[38;5;241;43m=\u001B[39;49m\u001B[43mbucket\u001B[49m\u001B[43m,\u001B[49m\u001B[43m \u001B[49m\u001B[43mKey\u001B[49m\u001B[38;5;241;43m=\u001B[39;49m\u001B[43mkey\u001B[49m\u001B[43m,\u001B[49m\u001B[43m \u001B[49m\u001B[43mBody\u001B[49m\u001B[38;5;241;43m=\u001B[39;49m\u001B[43mbody\u001B[49m\u001B[43m,\u001B[49m\u001B[43m \u001B[49m\u001B[38;5;241;43m*\u001B[39;49m\u001B[38;5;241;43m*\u001B[39;49m\u001B[43mextra_args\u001B[49m\u001B[43m)\u001B[49m\n",
      "File \u001B[0;32m~/Development/arcade/python/notebook/venv/lib/python3.11/site-packages/botocore/client.py:565\u001B[0m, in \u001B[0;36mClientCreator._create_api_method.<locals>._api_call\u001B[0;34m(self, *args, **kwargs)\u001B[0m\n\u001B[1;32m    561\u001B[0m     \u001B[38;5;28;01mraise\u001B[39;00m \u001B[38;5;167;01mTypeError\u001B[39;00m(\n\u001B[1;32m    562\u001B[0m         \u001B[38;5;124mf\u001B[39m\u001B[38;5;124m\"\u001B[39m\u001B[38;5;132;01m{\u001B[39;00mpy_operation_name\u001B[38;5;132;01m}\u001B[39;00m\u001B[38;5;124m() only accepts keyword arguments.\u001B[39m\u001B[38;5;124m\"\u001B[39m\n\u001B[1;32m    563\u001B[0m     )\n\u001B[1;32m    564\u001B[0m \u001B[38;5;66;03m# The \"self\" in this scope is referring to the BaseClient.\u001B[39;00m\n\u001B[0;32m--> 565\u001B[0m \u001B[38;5;28;01mreturn\u001B[39;00m \u001B[38;5;28;43mself\u001B[39;49m\u001B[38;5;241;43m.\u001B[39;49m\u001B[43m_make_api_call\u001B[49m\u001B[43m(\u001B[49m\u001B[43moperation_name\u001B[49m\u001B[43m,\u001B[49m\u001B[43m \u001B[49m\u001B[43mkwargs\u001B[49m\u001B[43m)\u001B[49m\n",
      "File \u001B[0;32m~/Development/arcade/python/notebook/venv/lib/python3.11/site-packages/botocore/client.py:958\u001B[0m, in \u001B[0;36mBaseClient._make_api_call\u001B[0;34m(self, operation_name, api_params)\u001B[0m\n\u001B[1;32m    949\u001B[0m     logger\u001B[38;5;241m.\u001B[39mdebug(\n\u001B[1;32m    950\u001B[0m         \u001B[38;5;124m'\u001B[39m\u001B[38;5;124mWarning: \u001B[39m\u001B[38;5;132;01m%s\u001B[39;00m\u001B[38;5;124m.\u001B[39m\u001B[38;5;132;01m%s\u001B[39;00m\u001B[38;5;124m() is deprecated\u001B[39m\u001B[38;5;124m'\u001B[39m, service_name, operation_name\n\u001B[1;32m    951\u001B[0m     )\n\u001B[1;32m    952\u001B[0m request_context \u001B[38;5;241m=\u001B[39m {\n\u001B[1;32m    953\u001B[0m     \u001B[38;5;124m'\u001B[39m\u001B[38;5;124mclient_region\u001B[39m\u001B[38;5;124m'\u001B[39m: \u001B[38;5;28mself\u001B[39m\u001B[38;5;241m.\u001B[39mmeta\u001B[38;5;241m.\u001B[39mregion_name,\n\u001B[1;32m    954\u001B[0m     \u001B[38;5;124m'\u001B[39m\u001B[38;5;124mclient_config\u001B[39m\u001B[38;5;124m'\u001B[39m: \u001B[38;5;28mself\u001B[39m\u001B[38;5;241m.\u001B[39mmeta\u001B[38;5;241m.\u001B[39mconfig,\n\u001B[1;32m    955\u001B[0m     \u001B[38;5;124m'\u001B[39m\u001B[38;5;124mhas_streaming_input\u001B[39m\u001B[38;5;124m'\u001B[39m: operation_model\u001B[38;5;241m.\u001B[39mhas_streaming_input,\n\u001B[1;32m    956\u001B[0m     \u001B[38;5;124m'\u001B[39m\u001B[38;5;124mauth_type\u001B[39m\u001B[38;5;124m'\u001B[39m: operation_model\u001B[38;5;241m.\u001B[39mauth_type,\n\u001B[1;32m    957\u001B[0m }\n\u001B[0;32m--> 958\u001B[0m api_params \u001B[38;5;241m=\u001B[39m \u001B[38;5;28;43mself\u001B[39;49m\u001B[38;5;241;43m.\u001B[39;49m\u001B[43m_emit_api_params\u001B[49m\u001B[43m(\u001B[49m\n\u001B[1;32m    959\u001B[0m \u001B[43m    \u001B[49m\u001B[43mapi_params\u001B[49m\u001B[38;5;241;43m=\u001B[39;49m\u001B[43mapi_params\u001B[49m\u001B[43m,\u001B[49m\n\u001B[1;32m    960\u001B[0m \u001B[43m    \u001B[49m\u001B[43moperation_model\u001B[49m\u001B[38;5;241;43m=\u001B[39;49m\u001B[43moperation_model\u001B[49m\u001B[43m,\u001B[49m\n\u001B[1;32m    961\u001B[0m \u001B[43m    \u001B[49m\u001B[43mcontext\u001B[49m\u001B[38;5;241;43m=\u001B[39;49m\u001B[43mrequest_context\u001B[49m\u001B[43m,\u001B[49m\n\u001B[1;32m    962\u001B[0m \u001B[43m\u001B[49m\u001B[43m)\u001B[49m\n\u001B[1;32m    963\u001B[0m (\n\u001B[1;32m    964\u001B[0m     endpoint_url,\n\u001B[1;32m    965\u001B[0m     additional_headers,\n\u001B[0;32m   (...)\u001B[0m\n\u001B[1;32m    968\u001B[0m     operation_model, api_params, request_context\n\u001B[1;32m    969\u001B[0m )\n\u001B[1;32m    970\u001B[0m \u001B[38;5;28;01mif\u001B[39;00m properties:\n\u001B[1;32m    971\u001B[0m     \u001B[38;5;66;03m# Pass arbitrary endpoint info with the Request\u001B[39;00m\n\u001B[1;32m    972\u001B[0m     \u001B[38;5;66;03m# for use during construction.\u001B[39;00m\n",
      "File \u001B[0;32m~/Development/arcade/python/notebook/venv/lib/python3.11/site-packages/botocore/client.py:1084\u001B[0m, in \u001B[0;36mBaseClient._emit_api_params\u001B[0;34m(self, api_params, operation_model, context)\u001B[0m\n\u001B[1;32m   1076\u001B[0m responses \u001B[38;5;241m=\u001B[39m \u001B[38;5;28mself\u001B[39m\u001B[38;5;241m.\u001B[39mmeta\u001B[38;5;241m.\u001B[39mevents\u001B[38;5;241m.\u001B[39memit(\n\u001B[1;32m   1077\u001B[0m     \u001B[38;5;124mf\u001B[39m\u001B[38;5;124m'\u001B[39m\u001B[38;5;124mprovide-client-params.\u001B[39m\u001B[38;5;132;01m{\u001B[39;00mservice_id\u001B[38;5;132;01m}\u001B[39;00m\u001B[38;5;124m.\u001B[39m\u001B[38;5;132;01m{\u001B[39;00moperation_name\u001B[38;5;132;01m}\u001B[39;00m\u001B[38;5;124m'\u001B[39m,\n\u001B[1;32m   1078\u001B[0m     params\u001B[38;5;241m=\u001B[39mapi_params,\n\u001B[1;32m   1079\u001B[0m     model\u001B[38;5;241m=\u001B[39moperation_model,\n\u001B[1;32m   1080\u001B[0m     context\u001B[38;5;241m=\u001B[39mcontext,\n\u001B[1;32m   1081\u001B[0m )\n\u001B[1;32m   1082\u001B[0m api_params \u001B[38;5;241m=\u001B[39m first_non_none_response(responses, default\u001B[38;5;241m=\u001B[39mapi_params)\n\u001B[0;32m-> 1084\u001B[0m \u001B[38;5;28;43mself\u001B[39;49m\u001B[38;5;241;43m.\u001B[39;49m\u001B[43mmeta\u001B[49m\u001B[38;5;241;43m.\u001B[39;49m\u001B[43mevents\u001B[49m\u001B[38;5;241;43m.\u001B[39;49m\u001B[43memit\u001B[49m\u001B[43m(\u001B[49m\n\u001B[1;32m   1085\u001B[0m \u001B[43m    \u001B[49m\u001B[38;5;124;43mf\u001B[39;49m\u001B[38;5;124;43m'\u001B[39;49m\u001B[38;5;124;43mbefore-parameter-build.\u001B[39;49m\u001B[38;5;132;43;01m{\u001B[39;49;00m\u001B[43mservice_id\u001B[49m\u001B[38;5;132;43;01m}\u001B[39;49;00m\u001B[38;5;124;43m.\u001B[39;49m\u001B[38;5;132;43;01m{\u001B[39;49;00m\u001B[43moperation_name\u001B[49m\u001B[38;5;132;43;01m}\u001B[39;49;00m\u001B[38;5;124;43m'\u001B[39;49m\u001B[43m,\u001B[49m\n\u001B[1;32m   1086\u001B[0m \u001B[43m    \u001B[49m\u001B[43mparams\u001B[49m\u001B[38;5;241;43m=\u001B[39;49m\u001B[43mapi_params\u001B[49m\u001B[43m,\u001B[49m\n\u001B[1;32m   1087\u001B[0m \u001B[43m    \u001B[49m\u001B[43mmodel\u001B[49m\u001B[38;5;241;43m=\u001B[39;49m\u001B[43moperation_model\u001B[49m\u001B[43m,\u001B[49m\n\u001B[1;32m   1088\u001B[0m \u001B[43m    \u001B[49m\u001B[43mcontext\u001B[49m\u001B[38;5;241;43m=\u001B[39;49m\u001B[43mcontext\u001B[49m\u001B[43m,\u001B[49m\n\u001B[1;32m   1089\u001B[0m \u001B[43m\u001B[49m\u001B[43m)\u001B[49m\n\u001B[1;32m   1090\u001B[0m \u001B[38;5;28;01mreturn\u001B[39;00m api_params\n",
      "File \u001B[0;32m~/Development/arcade/python/notebook/venv/lib/python3.11/site-packages/botocore/hooks.py:412\u001B[0m, in \u001B[0;36mEventAliaser.emit\u001B[0;34m(self, event_name, **kwargs)\u001B[0m\n\u001B[1;32m    410\u001B[0m \u001B[38;5;28;01mdef\u001B[39;00m \u001B[38;5;21memit\u001B[39m(\u001B[38;5;28mself\u001B[39m, event_name, \u001B[38;5;241m*\u001B[39m\u001B[38;5;241m*\u001B[39mkwargs):\n\u001B[1;32m    411\u001B[0m     aliased_event_name \u001B[38;5;241m=\u001B[39m \u001B[38;5;28mself\u001B[39m\u001B[38;5;241m.\u001B[39m_alias_event_name(event_name)\n\u001B[0;32m--> 412\u001B[0m     \u001B[38;5;28;01mreturn\u001B[39;00m \u001B[38;5;28;43mself\u001B[39;49m\u001B[38;5;241;43m.\u001B[39;49m\u001B[43m_emitter\u001B[49m\u001B[38;5;241;43m.\u001B[39;49m\u001B[43memit\u001B[49m\u001B[43m(\u001B[49m\u001B[43maliased_event_name\u001B[49m\u001B[43m,\u001B[49m\u001B[43m \u001B[49m\u001B[38;5;241;43m*\u001B[39;49m\u001B[38;5;241;43m*\u001B[39;49m\u001B[43mkwargs\u001B[49m\u001B[43m)\u001B[49m\n",
      "File \u001B[0;32m~/Development/arcade/python/notebook/venv/lib/python3.11/site-packages/botocore/hooks.py:256\u001B[0m, in \u001B[0;36mHierarchicalEmitter.emit\u001B[0;34m(self, event_name, **kwargs)\u001B[0m\n\u001B[1;32m    245\u001B[0m \u001B[38;5;28;01mdef\u001B[39;00m \u001B[38;5;21memit\u001B[39m(\u001B[38;5;28mself\u001B[39m, event_name, \u001B[38;5;241m*\u001B[39m\u001B[38;5;241m*\u001B[39mkwargs):\n\u001B[1;32m    246\u001B[0m \u001B[38;5;250m    \u001B[39m\u001B[38;5;124;03m\"\"\"\u001B[39;00m\n\u001B[1;32m    247\u001B[0m \u001B[38;5;124;03m    Emit an event by name with arguments passed as keyword args.\u001B[39;00m\n\u001B[1;32m    248\u001B[0m \n\u001B[0;32m   (...)\u001B[0m\n\u001B[1;32m    254\u001B[0m \u001B[38;5;124;03m             handlers.\u001B[39;00m\n\u001B[1;32m    255\u001B[0m \u001B[38;5;124;03m    \"\"\"\u001B[39;00m\n\u001B[0;32m--> 256\u001B[0m     \u001B[38;5;28;01mreturn\u001B[39;00m \u001B[38;5;28;43mself\u001B[39;49m\u001B[38;5;241;43m.\u001B[39;49m\u001B[43m_emit\u001B[49m\u001B[43m(\u001B[49m\u001B[43mevent_name\u001B[49m\u001B[43m,\u001B[49m\u001B[43m \u001B[49m\u001B[43mkwargs\u001B[49m\u001B[43m)\u001B[49m\n",
      "File \u001B[0;32m~/Development/arcade/python/notebook/venv/lib/python3.11/site-packages/botocore/hooks.py:239\u001B[0m, in \u001B[0;36mHierarchicalEmitter._emit\u001B[0;34m(self, event_name, kwargs, stop_on_response)\u001B[0m\n\u001B[1;32m    237\u001B[0m \u001B[38;5;28;01mfor\u001B[39;00m handler \u001B[38;5;129;01min\u001B[39;00m handlers_to_call:\n\u001B[1;32m    238\u001B[0m     logger\u001B[38;5;241m.\u001B[39mdebug(\u001B[38;5;124m'\u001B[39m\u001B[38;5;124mEvent \u001B[39m\u001B[38;5;132;01m%s\u001B[39;00m\u001B[38;5;124m: calling handler \u001B[39m\u001B[38;5;132;01m%s\u001B[39;00m\u001B[38;5;124m'\u001B[39m, event_name, handler)\n\u001B[0;32m--> 239\u001B[0m     response \u001B[38;5;241m=\u001B[39m \u001B[43mhandler\u001B[49m\u001B[43m(\u001B[49m\u001B[38;5;241;43m*\u001B[39;49m\u001B[38;5;241;43m*\u001B[39;49m\u001B[43mkwargs\u001B[49m\u001B[43m)\u001B[49m\n\u001B[1;32m    240\u001B[0m     responses\u001B[38;5;241m.\u001B[39mappend((handler, response))\n\u001B[1;32m    241\u001B[0m     \u001B[38;5;28;01mif\u001B[39;00m stop_on_response \u001B[38;5;129;01mand\u001B[39;00m response \u001B[38;5;129;01mis\u001B[39;00m \u001B[38;5;129;01mnot\u001B[39;00m \u001B[38;5;28;01mNone\u001B[39;00m:\n",
      "File \u001B[0;32m~/Development/arcade/python/notebook/venv/lib/python3.11/site-packages/botocore/handlers.py:288\u001B[0m, in \u001B[0;36mvalidate_bucket_name\u001B[0;34m(params, **kwargs)\u001B[0m\n\u001B[1;32m    282\u001B[0m \u001B[38;5;28;01mif\u001B[39;00m \u001B[38;5;129;01mnot\u001B[39;00m VALID_BUCKET\u001B[38;5;241m.\u001B[39msearch(bucket) \u001B[38;5;129;01mand\u001B[39;00m \u001B[38;5;129;01mnot\u001B[39;00m VALID_S3_ARN\u001B[38;5;241m.\u001B[39msearch(bucket):\n\u001B[1;32m    283\u001B[0m     error_msg \u001B[38;5;241m=\u001B[39m (\n\u001B[1;32m    284\u001B[0m         \u001B[38;5;124mf\u001B[39m\u001B[38;5;124m'\u001B[39m\u001B[38;5;124mInvalid bucket name \u001B[39m\u001B[38;5;124m\"\u001B[39m\u001B[38;5;132;01m{\u001B[39;00mbucket\u001B[38;5;132;01m}\u001B[39;00m\u001B[38;5;124m\"\u001B[39m\u001B[38;5;124m: Bucket name must match \u001B[39m\u001B[38;5;124m'\u001B[39m\n\u001B[1;32m    285\u001B[0m         \u001B[38;5;124mf\u001B[39m\u001B[38;5;124m'\u001B[39m\u001B[38;5;124mthe regex \u001B[39m\u001B[38;5;124m\"\u001B[39m\u001B[38;5;132;01m{\u001B[39;00mVALID_BUCKET\u001B[38;5;241m.\u001B[39mpattern\u001B[38;5;132;01m}\u001B[39;00m\u001B[38;5;124m\"\u001B[39m\u001B[38;5;124m or be an ARN matching \u001B[39m\u001B[38;5;124m'\u001B[39m\n\u001B[1;32m    286\u001B[0m         \u001B[38;5;124mf\u001B[39m\u001B[38;5;124m'\u001B[39m\u001B[38;5;124mthe regex \u001B[39m\u001B[38;5;124m\"\u001B[39m\u001B[38;5;132;01m{\u001B[39;00mVALID_S3_ARN\u001B[38;5;241m.\u001B[39mpattern\u001B[38;5;132;01m}\u001B[39;00m\u001B[38;5;124m\"\u001B[39m\u001B[38;5;124m'\u001B[39m\n\u001B[1;32m    287\u001B[0m     )\n\u001B[0;32m--> 288\u001B[0m     \u001B[38;5;28;01mraise\u001B[39;00m ParamValidationError(report\u001B[38;5;241m=\u001B[39merror_msg)\n",
      "\u001B[0;31mParamValidationError\u001B[0m: Parameter validation failed:\nInvalid bucket name \"\": Bucket name must match the regex \"^[a-zA-Z0-9.\\-_]{1,255}$\" or be an ARN matching the regex \"^arn:(aws).*:(s3|s3-object-lambda):[a-z\\-0-9]*:[0-9]{12}:accesspoint[/:][a-zA-Z0-9\\-.]{1,63}$|^arn:(aws).*:s3-outposts:[a-z\\-0-9]+:[0-9]{12}:outpost[/:][a-zA-Z0-9\\-]{1,63}[/:]accesspoint[/:][a-zA-Z0-9\\-]{1,63}$\""
     ]
    }
   ],
   "execution_count": 23
  },
  {
   "metadata": {},
   "cell_type": "markdown",
   "source": "## 6. Publish finish event",
   "id": "a834396f22002ce7"
  },
  {
   "metadata": {},
   "cell_type": "code",
   "source": [
    "import boto3\n",
    "from datetime import datetime\n",
    "\n",
    "# Define the event details\n",
    "event_bus_name = os.getenv(\"OUTPUT_BUCKET\")\n",
    "aws_batch_job_id = os.getenv(\"AWS_BATCH_JOB_ID\")\n",
    "eventbridge = boto3.client('events')\n",
    "event = {\n",
    "\t'EventBusName': event_bus_name,\n",
    "\t'Source': 'com.aws.arcade.executor',\n",
    "\t'DetailType': 'com.aws.arcade.executor>PolygonMetadata>created',\n",
    "\t'Detail': json.dumps({\n",
    "\t\t\"groupId\": request.group_id,\n",
    "\t\t\"polygonId\": request.polygon_id,\n",
    "\t\t\"regionId\": request.region_id,\n",
    "\t\t\"resultId\": request.result_id,\n",
    "\t\t\"jobId\": aws_batch_job_id,\n",
    "\t\t\"scheduleDateTime\": request.schedule_date_time,\n",
    "\t\t\"engineOutputLocation\": f'{request.output_prefix}/metadata.json',\n",
    "\t\t\"createdAt\": datetime.now().isoformat()\n",
    "\t})}\n",
    "\n",
    "# Publish the event to EventBridge\n",
    "response = eventbridge.put_events(\n",
    "\tEntries=[\n",
    "\t\t{\n",
    "\t\t\t'Source': event['Source'],\n",
    "\t\t\t'DetailType': event['DetailType'],\n",
    "\t\t\t'Detail': event['Detail']\n",
    "\t\t}\n",
    "\t]\n",
    ")\n",
    "\n",
    "print(response)"
   ],
   "id": "e92be030db032a57",
   "outputs": [],
   "execution_count": null
  }
 ],
 "metadata": {
  "kernelspec": {
   "display_name": "Python 3 (ipykernel)",
   "language": "python",
   "name": "python3"
  },
  "language_info": {
   "codemirror_mode": {
    "name": "ipython",
    "version": 3
   },
   "file_extension": ".py",
   "mimetype": "text/x-python",
   "name": "python",
   "nbconvert_exporter": "python",
   "pygments_lexer": "ipython3",
   "version": "3.10.14"
  }
 },
 "nbformat": 4,
 "nbformat_minor": 5
}
